{
 "cells": [
  {
   "cell_type": "code",
   "execution_count": 1,
   "id": "e94f93c4",
   "metadata": {},
   "outputs": [],
   "source": [
    "import pandas as pd\n",
    "import numpy as np\n",
    "import matplotlib.pyplot as plt\n",
    "import seaborn as sns"
   ]
  },
  {
   "cell_type": "code",
   "execution_count": 2,
   "id": "3f186f55",
   "metadata": {},
   "outputs": [
    {
     "data": {
      "text/html": [
       "<div>\n",
       "<style scoped>\n",
       "    .dataframe tbody tr th:only-of-type {\n",
       "        vertical-align: middle;\n",
       "    }\n",
       "\n",
       "    .dataframe tbody tr th {\n",
       "        vertical-align: top;\n",
       "    }\n",
       "\n",
       "    .dataframe thead th {\n",
       "        text-align: right;\n",
       "    }\n",
       "</style>\n",
       "<table border=\"1\" class=\"dataframe\">\n",
       "  <thead>\n",
       "    <tr style=\"text-align: right;\">\n",
       "      <th></th>\n",
       "      <th>Pregnancies</th>\n",
       "      <th>Glucose</th>\n",
       "      <th>BloodPressure</th>\n",
       "      <th>SkinThickness</th>\n",
       "      <th>Insulin</th>\n",
       "      <th>BMI</th>\n",
       "      <th>DiabetesPedigreeFunction</th>\n",
       "      <th>Age</th>\n",
       "      <th>Outcome</th>\n",
       "    </tr>\n",
       "  </thead>\n",
       "  <tbody>\n",
       "    <tr>\n",
       "      <th>0</th>\n",
       "      <td>6</td>\n",
       "      <td>148</td>\n",
       "      <td>72</td>\n",
       "      <td>35</td>\n",
       "      <td>0</td>\n",
       "      <td>33.6</td>\n",
       "      <td>0.627</td>\n",
       "      <td>50</td>\n",
       "      <td>1</td>\n",
       "    </tr>\n",
       "    <tr>\n",
       "      <th>1</th>\n",
       "      <td>1</td>\n",
       "      <td>85</td>\n",
       "      <td>66</td>\n",
       "      <td>29</td>\n",
       "      <td>0</td>\n",
       "      <td>26.6</td>\n",
       "      <td>0.351</td>\n",
       "      <td>31</td>\n",
       "      <td>0</td>\n",
       "    </tr>\n",
       "    <tr>\n",
       "      <th>2</th>\n",
       "      <td>8</td>\n",
       "      <td>183</td>\n",
       "      <td>64</td>\n",
       "      <td>0</td>\n",
       "      <td>0</td>\n",
       "      <td>23.3</td>\n",
       "      <td>0.672</td>\n",
       "      <td>32</td>\n",
       "      <td>1</td>\n",
       "    </tr>\n",
       "    <tr>\n",
       "      <th>3</th>\n",
       "      <td>1</td>\n",
       "      <td>89</td>\n",
       "      <td>66</td>\n",
       "      <td>23</td>\n",
       "      <td>94</td>\n",
       "      <td>28.1</td>\n",
       "      <td>0.167</td>\n",
       "      <td>21</td>\n",
       "      <td>0</td>\n",
       "    </tr>\n",
       "    <tr>\n",
       "      <th>4</th>\n",
       "      <td>0</td>\n",
       "      <td>137</td>\n",
       "      <td>40</td>\n",
       "      <td>35</td>\n",
       "      <td>168</td>\n",
       "      <td>43.1</td>\n",
       "      <td>2.288</td>\n",
       "      <td>33</td>\n",
       "      <td>1</td>\n",
       "    </tr>\n",
       "  </tbody>\n",
       "</table>\n",
       "</div>"
      ],
      "text/plain": [
       "   Pregnancies  Glucose  BloodPressure  SkinThickness  Insulin   BMI  \\\n",
       "0            6      148             72             35        0  33.6   \n",
       "1            1       85             66             29        0  26.6   \n",
       "2            8      183             64              0        0  23.3   \n",
       "3            1       89             66             23       94  28.1   \n",
       "4            0      137             40             35      168  43.1   \n",
       "\n",
       "   DiabetesPedigreeFunction  Age  Outcome  \n",
       "0                     0.627   50        1  \n",
       "1                     0.351   31        0  \n",
       "2                     0.672   32        1  \n",
       "3                     0.167   21        0  \n",
       "4                     2.288   33        1  "
      ]
     },
     "execution_count": 2,
     "metadata": {},
     "output_type": "execute_result"
    }
   ],
   "source": [
    "df = pd.read_csv('diabetes2.csv')\n",
    "df.head()"
   ]
  },
  {
   "cell_type": "code",
   "execution_count": 3,
   "id": "dd833ede",
   "metadata": {},
   "outputs": [
    {
     "data": {
      "text/plain": [
       "(768, 9)"
      ]
     },
     "execution_count": 3,
     "metadata": {},
     "output_type": "execute_result"
    }
   ],
   "source": [
    "df.shape"
   ]
  },
  {
   "cell_type": "code",
   "execution_count": 4,
   "id": "944b66d5",
   "metadata": {},
   "outputs": [
    {
     "name": "stdout",
     "output_type": "stream",
     "text": [
      "<class 'pandas.core.frame.DataFrame'>\n",
      "RangeIndex: 768 entries, 0 to 767\n",
      "Data columns (total 9 columns):\n",
      " #   Column                    Non-Null Count  Dtype  \n",
      "---  ------                    --------------  -----  \n",
      " 0   Pregnancies               768 non-null    int64  \n",
      " 1   Glucose                   768 non-null    int64  \n",
      " 2   BloodPressure             768 non-null    int64  \n",
      " 3   SkinThickness             768 non-null    int64  \n",
      " 4   Insulin                   768 non-null    int64  \n",
      " 5   BMI                       768 non-null    float64\n",
      " 6   DiabetesPedigreeFunction  768 non-null    float64\n",
      " 7   Age                       768 non-null    int64  \n",
      " 8   Outcome                   768 non-null    int64  \n",
      "dtypes: float64(2), int64(7)\n",
      "memory usage: 54.1 KB\n"
     ]
    }
   ],
   "source": [
    "df.info()"
   ]
  },
  {
   "cell_type": "markdown",
   "id": "1ea65e3e",
   "metadata": {},
   "source": [
    "#### There are no null values in the data, so we dont need to remove any rows"
   ]
  },
  {
   "cell_type": "code",
   "execution_count": 5,
   "id": "085cc178",
   "metadata": {},
   "outputs": [
    {
     "data": {
      "text/plain": [
       "<AxesSubplot:>"
      ]
     },
     "execution_count": 5,
     "metadata": {},
     "output_type": "execute_result"
    },
    {
     "data": {
      "image/png": "[encoded data removed]",
      "text/plain": [
       "<Figure size 432x288 with 2 Axes>"
      ]
     },
     "metadata": {
      "needs_background": "light"
     },
     "output_type": "display_data"
    }
   ],
   "source": [
    "sns.heatmap(df.corr())"
   ]
  },
  {
   "cell_type": "markdown",
   "id": "35aed23d",
   "metadata": {},
   "source": [
    "#### We can see that the data is not highly correlated, so there is no need to drop any columns"
   ]
  },
  {
   "cell_type": "markdown",
   "id": "602afb6a",
   "metadata": {},
   "source": [
    "#### Standardising the input data using StandardScaler"
   ]
  },
  {
   "cell_type": "code",
   "execution_count": 6,
   "id": "c8211157",
   "metadata": {},
   "outputs": [
    {
     "data": {
      "text/html": [
       "<div>\n",
       "<style scoped>\n",
       "    .dataframe tbody tr th:only-of-type {\n",
       "        vertical-align: middle;\n",
       "    }\n",
       "\n",
       "    .dataframe tbody tr th {\n",
       "        vertical-align: top;\n",
       "    }\n",
       "\n",
       "    .dataframe thead th {\n",
       "        text-align: right;\n",
       "    }\n",
       "</style>\n",
       "<table border=\"1\" class=\"dataframe\">\n",
       "  <thead>\n",
       "    <tr style=\"text-align: right;\">\n",
       "      <th></th>\n",
       "      <th>Pregnancies</th>\n",
       "      <th>Glucose</th>\n",
       "      <th>BloodPressure</th>\n",
       "      <th>SkinThickness</th>\n",
       "      <th>Insulin</th>\n",
       "      <th>BMI</th>\n",
       "      <th>DiabetesPedigreeFunction</th>\n",
       "      <th>Age</th>\n",
       "      <th>Outcome</th>\n",
       "    </tr>\n",
       "  </thead>\n",
       "  <tbody>\n",
       "    <tr>\n",
       "      <th>0</th>\n",
       "      <td>0.639947</td>\n",
       "      <td>0.848324</td>\n",
       "      <td>0.149641</td>\n",
       "      <td>0.907270</td>\n",
       "      <td>-0.692891</td>\n",
       "      <td>0.204013</td>\n",
       "      <td>0.468492</td>\n",
       "      <td>1.425995</td>\n",
       "      <td>1</td>\n",
       "    </tr>\n",
       "    <tr>\n",
       "      <th>1</th>\n",
       "      <td>-0.844885</td>\n",
       "      <td>-1.123396</td>\n",
       "      <td>-0.160546</td>\n",
       "      <td>0.530902</td>\n",
       "      <td>-0.692891</td>\n",
       "      <td>-0.684422</td>\n",
       "      <td>-0.365061</td>\n",
       "      <td>-0.190672</td>\n",
       "      <td>0</td>\n",
       "    </tr>\n",
       "    <tr>\n",
       "      <th>2</th>\n",
       "      <td>1.233880</td>\n",
       "      <td>1.943724</td>\n",
       "      <td>-0.263941</td>\n",
       "      <td>-1.288212</td>\n",
       "      <td>-0.692891</td>\n",
       "      <td>-1.103255</td>\n",
       "      <td>0.604397</td>\n",
       "      <td>-0.105584</td>\n",
       "      <td>1</td>\n",
       "    </tr>\n",
       "    <tr>\n",
       "      <th>3</th>\n",
       "      <td>-0.844885</td>\n",
       "      <td>-0.998208</td>\n",
       "      <td>-0.160546</td>\n",
       "      <td>0.154533</td>\n",
       "      <td>0.123302</td>\n",
       "      <td>-0.494043</td>\n",
       "      <td>-0.920763</td>\n",
       "      <td>-1.041549</td>\n",
       "      <td>0</td>\n",
       "    </tr>\n",
       "    <tr>\n",
       "      <th>4</th>\n",
       "      <td>-1.141852</td>\n",
       "      <td>0.504055</td>\n",
       "      <td>-1.504687</td>\n",
       "      <td>0.907270</td>\n",
       "      <td>0.765836</td>\n",
       "      <td>1.409746</td>\n",
       "      <td>5.484909</td>\n",
       "      <td>-0.020496</td>\n",
       "      <td>1</td>\n",
       "    </tr>\n",
       "  </tbody>\n",
       "</table>\n",
       "</div>"
      ],
      "text/plain": [
       "   Pregnancies   Glucose  BloodPressure  SkinThickness   Insulin       BMI  \\\n",
       "0     0.639947  0.848324       0.149641       0.907270 -0.692891  0.204013   \n",
       "1    -0.844885 -1.123396      -0.160546       0.530902 -0.692891 -0.684422   \n",
       "2     1.233880  1.943724      -0.263941      -1.288212 -0.692891 -1.103255   \n",
       "3    -0.844885 -0.998208      -0.160546       0.154533  0.123302 -0.494043   \n",
       "4    -1.141852  0.504055      -1.504687       0.907270  0.765836  1.409746   \n",
       "\n",
       "   DiabetesPedigreeFunction       Age  Outcome  \n",
       "0                  0.468492  1.425995        1  \n",
       "1                 -0.365061 -0.190672        0  \n",
       "2                  0.604397 -0.105584        1  \n",
       "3                 -0.920763 -1.041549        0  \n",
       "4                  5.484909 -0.020496        1  "
      ]
     },
     "execution_count": 6,
     "metadata": {},
     "output_type": "execute_result"
    }
   ],
   "source": [
    "from sklearn.preprocessing import StandardScaler\n",
    "scaler = StandardScaler()\n",
    "df[df.columns[:-1]] = scaler.fit_transform(df[df.columns[:-1]])\n",
    "df.head()"
   ]
  },
  {
   "cell_type": "markdown",
   "id": "f7510d1c",
   "metadata": {},
   "source": [
    "#### Splitting data into train validation and test sets with seed 0"
   ]
  },
  {
   "cell_type": "code",
   "execution_count": 7,
   "id": "120e6158",
   "metadata": {},
   "outputs": [
    {
     "name": "stdout",
     "output_type": "stream",
     "text": [
      "Training set size: 538\n",
      "Validation set size: 153\n",
      "Testing set size: 77\n"
     ]
    }
   ],
   "source": [
    "train = df.sample(frac=0.7, random_state=0)\n",
    "val = df.drop(train.index).sample(frac=0.666, random_state=0)\n",
    "test = df.drop(np.concatenate((train.index, val.index)))\n",
    "\n",
    "print('Training set size:', train.shape[0])\n",
    "print('Validation set size:', val.shape[0])\n",
    "print('Testing set size:', test.shape[0])"
   ]
  },
  {
   "cell_type": "markdown",
   "id": "7cd6806f",
   "metadata": {},
   "source": [
    "#### Splitting data into input and output"
   ]
  },
  {
   "cell_type": "code",
   "execution_count": 8,
   "id": "cdf43d46",
   "metadata": {},
   "outputs": [],
   "source": [
    "X_train = train.iloc[:, :-1]\n",
    "y_train = train.iloc[:, -1]\n",
    "X_val = val.iloc[:, :-1]\n",
    "y_val = val.iloc[:, -1]\n",
    "X_test = test.iloc[:, :-1]\n",
    "y_test = test.iloc[:, -1]"
   ]
  },
  {
   "cell_type": "markdown",
   "id": "2527d978",
   "metadata": {},
   "source": [
    "# Part 1"
   ]
  },
  {
   "cell_type": "markdown",
   "id": "a7a9a7d0",
   "metadata": {},
   "source": [
    "## Performing Logistic regression"
   ]
  },
  {
   "cell_type": "code",
   "execution_count": 9,
   "id": "7af46462",
   "metadata": {},
   "outputs": [],
   "source": [
    "def sigmoid(x):\n",
    "    return 1.0 / (1 + np.exp(-x))\n",
    "\n",
    "class LogisticRegression():\n",
    "    def __init__(self, alpha, iters):\n",
    "        self.alpha = alpha\n",
    "        self.iters = iters\n",
    "    \n",
    "    def bgd(self, x, y, resume):\n",
    "        # number of training samples and number of features\n",
    "        m, n = x.shape\n",
    "        # initialising weights and bias\n",
    "        if(not resume):\n",
    "            self.w = np.zeros(n)\n",
    "            self.b = 0\n",
    "        \n",
    "        self.losses = []\n",
    "        # iterating until error is negligible or max number of iterations is reached\n",
    "        for i in range(self.iters):\n",
    "            self.update(x, y, 'bgd')\n",
    "            hx = sigmoid(x.dot(self.w) + self.b)\n",
    "            self.losses.append(loss(hx, y))\n",
    "            if(resume):\n",
    "                if(i>2):\n",
    "                    if(self.losses[-1]>self.losses[-2]):\n",
    "                        print('early stopping')\n",
    "                        break\n",
    "\n",
    "    def sgd(self, x, y, resume):\n",
    "        # number of training samples and number of features\n",
    "        m, n = x.shape\n",
    "        # initialising weights and bias\n",
    "        if(not resume):\n",
    "            self.w = np.zeros(n)\n",
    "            self.b = 0\n",
    "        \n",
    "        self.losses = []\n",
    "        # iterating until error is negligible or max number of iterations is reached\n",
    "        for i in range(self.iters):\n",
    "            for j in range(0, m):\n",
    "                self.update(x.iloc[j], y.iloc[j], 'sgd')\n",
    "            hx = sigmoid(x.dot(self.w) + self.b)\n",
    "            self.losses.append(loss(hx, y))\n",
    "            if(resume):\n",
    "                if(i>2):\n",
    "                    if(self.losses[-1]>self.losses[-2]):\n",
    "                        print('early stopping')\n",
    "                        break\n",
    "    \n",
    "    def update(self, x, y, opt):\n",
    "        x = np.array(x)\n",
    "        y = np.array(y)\n",
    "        m = len(x)\n",
    "        hx = sigmoid(x.dot(self.w) + self.b)\n",
    "        # gradients for weights and bias\n",
    "        dw = ( (x.T).dot(hx - y) ) * (1/m)\n",
    "        db = ( np.sum(hx - y) ) * (1/m)\n",
    "        \n",
    "        # updating the weights\n",
    "        self.w = self.w - self.alpha * dw\n",
    "        self.b = self.b - self.alpha * db\n",
    "\n",
    "    def predict(self, x):\n",
    "        hx = sigmoid(x.dot(self.w) + self.b)\n",
    "        y_pred = np.where(hx > 0.5, 1, 0)\n",
    "        return y_pred\n",
    "    # class ends here\n",
    "\n",
    "def loss(y_pred, y):\n",
    "    # adding small value so log foes not become 0\n",
    "    epsilon = 1e-10\n",
    "    # calculates loss for the given predictions\n",
    "    loss = -np.mean(y*np.log(y_pred + epsilon) + (1-y)*np.log(1-y_pred + epsilon))\n",
    "    return loss"
   ]
  },
  {
   "cell_type": "markdown",
   "id": "4db5fb01",
   "metadata": {},
   "source": [
    "# A"
   ]
  },
  {
   "cell_type": "markdown",
   "id": "925624a7",
   "metadata": {},
   "source": [
    "## BGD loss vs iterations"
   ]
  },
  {
   "cell_type": "markdown",
   "id": "8599886f",
   "metadata": {},
   "source": [
    "### On training set"
   ]
  },
  {
   "cell_type": "code",
   "execution_count": 10,
   "id": "e94c15fa",
   "metadata": {},
   "outputs": [],
   "source": [
    "# lr = 0.1, iters = 500\n",
    "model = LogisticRegression(0.1, 500)\n",
    "model.bgd(X_train, y_train, False)"
   ]
  },
  {
   "cell_type": "code",
   "execution_count": 11,
   "id": "0e80c7e9",
   "metadata": {},
   "outputs": [
    {
     "data": {
      "image/png": "[encoded data removed]",
      "text/plain": [
       "<Figure size 432x288 with 1 Axes>"
      ]
     },
     "metadata": {
      "needs_background": "light"
     },
     "output_type": "display_data"
    }
   ],
   "source": [
    "plt.plot(np.arange(1, model.iters+1), model.losses)\n",
    "plt.xlabel('number of epochs')\n",
    "plt.ylabel('log loss')\n",
    "plt.show()"
   ]
  },
  {
   "cell_type": "code",
   "execution_count": 12,
   "id": "f2ba9f33",
   "metadata": {},
   "outputs": [
    {
     "name": "stdout",
     "output_type": "stream",
     "text": [
      "Our model correctly predicts outcome 79.182156133829 % of the time on the training set\n"
     ]
    }
   ],
   "source": [
    "accuracy = np.sum(model.predict(X_train)==y_train) / len(y_train)\n",
    "print('Our model correctly predicts outcome', accuracy*100, '% of the time on the training set')"
   ]
  },
  {
   "cell_type": "markdown",
   "id": "5f769422",
   "metadata": {},
   "source": [
    "### On validation set"
   ]
  },
  {
   "cell_type": "code",
   "execution_count": 13,
   "id": "6e4c203c",
   "metadata": {},
   "outputs": [],
   "source": [
    "# lr = 0.1, iters = 500\n",
    "model.bgd(X_val, y_val, True)"
   ]
  },
  {
   "cell_type": "code",
   "execution_count": 14,
   "id": "b0f014c4",
   "metadata": {},
   "outputs": [
    {
     "data": {
      "image/png": "[encoded data removed]",
      "text/plain": [
       "<Figure size 432x288 with 1 Axes>"
      ]
     },
     "metadata": {
      "needs_background": "light"
     },
     "output_type": "display_data"
    }
   ],
   "source": [
    "plt.plot(np.arange(1, model.iters+1), model.losses)\n",
    "plt.xlabel('number of epochs')\n",
    "plt.ylabel('log loss')\n",
    "plt.show()"
   ]
  },
  {
   "cell_type": "code",
   "execution_count": 15,
   "id": "5e1258b4",
   "metadata": {},
   "outputs": [
    {
     "name": "stdout",
     "output_type": "stream",
     "text": [
      "Our model correctly predicts outcome 77.88104089219331 % of the time on the validation set\n"
     ]
    }
   ],
   "source": [
    "accuracy = np.sum(model.predict(X_train)==y_train) / len(y_train)\n",
    "print('Our model correctly predicts outcome', accuracy*100, '% of the time on the validation set')"
   ]
  },
  {
   "cell_type": "markdown",
   "id": "70cc2cec",
   "metadata": {},
   "source": [
    "#### On both the sets it takes around 200 epochs for our model to converge\n",
    "#### The accuracy is lower and final loss is higher for validation set as the number of samples is lower in validation set"
   ]
  },
  {
   "cell_type": "markdown",
   "id": "bf761676",
   "metadata": {},
   "source": [
    "## SGD loss vs iterations"
   ]
  },
  {
   "cell_type": "markdown",
   "id": "edff122f",
   "metadata": {},
   "source": [
    "### On training set"
   ]
  },
  {
   "cell_type": "code",
   "execution_count": 16,
   "id": "0fbdb280",
   "metadata": {},
   "outputs": [],
   "source": [
    "# lr = 0.1, iters = 25\n",
    "model = LogisticRegression(0.1, 25)\n",
    "model.sgd(X_train, y_train, False)"
   ]
  },
  {
   "cell_type": "code",
   "execution_count": 17,
   "id": "9c0c346b",
   "metadata": {},
   "outputs": [
    {
     "data": {
      "image/png": "[encoded data removed]",
      "text/plain": [
       "<Figure size 432x288 with 1 Axes>"
      ]
     },
     "metadata": {
      "needs_background": "light"
     },
     "output_type": "display_data"
    }
   ],
   "source": [
    "plt.plot(np.arange(1, model.iters+1), model.losses)\n",
    "plt.xlabel('number of epochs')\n",
    "plt.ylabel('log loss')\n",
    "plt.show()"
   ]
  },
  {
   "cell_type": "code",
   "execution_count": 18,
   "id": "6a648c40",
   "metadata": {},
   "outputs": [
    {
     "name": "stdout",
     "output_type": "stream",
     "text": [
      "Our model correctly predicts outcome 78.62453531598513 % of the time on the training set\n"
     ]
    }
   ],
   "source": [
    "accuracy = np.sum(model.predict(X_train)==y_train) / len(y_train)\n",
    "print('Our model correctly predicts outcome', accuracy*100, '% of the time on the training set')"
   ]
  },
  {
   "cell_type": "markdown",
   "id": "db130e51",
   "metadata": {},
   "source": [
    "### On validation set"
   ]
  },
  {
   "cell_type": "code",
   "execution_count": 19,
   "id": "80e5b0d7",
   "metadata": {},
   "outputs": [],
   "source": [
    "# lr = 0.1, iters = 25\n",
    "model.sgd(X_val, y_val, True)"
   ]
  },
  {
   "cell_type": "code",
   "execution_count": 20,
   "id": "6a99ffdf",
   "metadata": {},
   "outputs": [
    {
     "data": {
      "image/png": "[encoded data removed]",
      "text/plain": [
       "<Figure size 432x288 with 1 Axes>"
      ]
     },
     "metadata": {
      "needs_background": "light"
     },
     "output_type": "display_data"
    }
   ],
   "source": [
    "plt.plot(np.arange(1, model.iters+1), model.losses)\n",
    "plt.xlabel('number of epochs')\n",
    "plt.ylabel('log loss')\n",
    "plt.show()"
   ]
  },
  {
   "cell_type": "code",
   "execution_count": 21,
   "id": "cd43e11b",
   "metadata": {},
   "outputs": [
    {
     "name": "stdout",
     "output_type": "stream",
     "text": [
      "Our model correctly predicts outcome 77.69516728624535 % of the time on the validation set\n"
     ]
    }
   ],
   "source": [
    "accuracy = np.sum(model.predict(X_train)==y_train) / len(y_train)\n",
    "print('Our model correctly predicts outcome', accuracy*100, '% of the time on the validation set')"
   ]
  },
  {
   "cell_type": "markdown",
   "id": "d53c774b",
   "metadata": {},
   "source": [
    "#### On both the sets it takes around 10 epochs for our model to converge\n",
    "#### SGD converges in much lesser number of epochs than BGD since the weights are updated with each input point"
   ]
  },
  {
   "cell_type": "markdown",
   "id": "6bed8047",
   "metadata": {},
   "source": [
    "# B"
   ]
  },
  {
   "cell_type": "markdown",
   "id": "c0d340d6",
   "metadata": {},
   "source": [
    "## BGD"
   ]
  },
  {
   "cell_type": "code",
   "execution_count": 22,
   "id": "55ff87fc",
   "metadata": {},
   "outputs": [
    {
     "name": "stdout",
     "output_type": "stream",
     "text": [
      "\n",
      "\n",
      "Learning rate = 0.01\n"
     ]
    },
    {
     "data": {
      "image/png": "[encoded data removed]",
      "text/plain": [
       "<Figure size 432x288 with 1 Axes>"
      ]
     },
     "metadata": {
      "needs_background": "light"
     },
     "output_type": "display_data"
    },
    {
     "name": "stdout",
     "output_type": "stream",
     "text": [
      "Our model correctly predicts outcome 72.72727272727273 % of the time on the testing set\n",
      "\n",
      "\n",
      "Learning rate = 0.0001\n"
     ]
    },
    {
     "data": {
      "image/png": "[encoded data removed]",
      "text/plain": [
       "<Figure size 432x288 with 1 Axes>"
      ]
     },
     "metadata": {
      "needs_background": "light"
     },
     "output_type": "display_data"
    },
    {
     "name": "stdout",
     "output_type": "stream",
     "text": [
      "Our model correctly predicts outcome 75.32467532467533 % of the time on the testing set\n",
      "\n",
      "\n",
      "Learning rate = 10\n"
     ]
    },
    {
     "data": {
      "image/png": "[encoded data removed]",
      "text/plain": [
       "<Figure size 432x288 with 1 Axes>"
      ]
     },
     "metadata": {
      "needs_background": "light"
     },
     "output_type": "display_data"
    },
    {
     "name": "stdout",
     "output_type": "stream",
     "text": [
      "Our model correctly predicts outcome 67.53246753246754 % of the time on the testing set\n"
     ]
    }
   ],
   "source": [
    "def graph(model):\n",
    "    plt.plot(np.arange(1, model.iters+1), model.losses)\n",
    "    plt.xlabel('number of epochs')\n",
    "    plt.ylabel('log loss')\n",
    "    plt.show()\n",
    "\n",
    "def accuracy(model):\n",
    "    accuracy = np.sum(model.predict(X_test)==y_test) / len(y_test)\n",
    "    print('Our model correctly predicts outcome', accuracy*100, '% of the time on the testing set')\n",
    "\n",
    "# iters = 2000\n",
    "lrs = [0.01, 0.0001, 10]\n",
    "for lr in lrs:\n",
    "    model = LogisticRegression(lr, 2000)\n",
    "    model.bgd(X_train, y_train, False)\n",
    "    print('\\n\\nLearning rate =', lr)\n",
    "    graph(model)\n",
    "    accuracy(model)"
   ]
  },
  {
   "cell_type": "markdown",
   "id": "21efd7bc",
   "metadata": {},
   "source": [
    "#### 0.01 learning rate is slower to converge than the original 0.1 taken by us, but it does reach convergence after a few thousand iterations\n",
    "#### 0.0001 is too low for the learning rate, it will take an unfeasibly large number of iterations to converge.\n",
    "#### 10 is too high, after some iterations the loss starts bouncing between 2 high loss values and does not reduce any further, it cannot reduce the loss to an acceptable level"
   ]
  },
  {
   "cell_type": "markdown",
   "id": "ba06c650",
   "metadata": {},
   "source": [
    "## SGD"
   ]
  },
  {
   "cell_type": "code",
   "execution_count": 23,
   "id": "5fa43eab",
   "metadata": {},
   "outputs": [
    {
     "name": "stdout",
     "output_type": "stream",
     "text": [
      "\n",
      "\n",
      "Learning rate = 0.01\n"
     ]
    },
    {
     "data": {
      "image/png": "[encoded data removed]",
      "text/plain": [
       "<Figure size 432x288 with 1 Axes>"
      ]
     },
     "metadata": {
      "needs_background": "light"
     },
     "output_type": "display_data"
    },
    {
     "name": "stdout",
     "output_type": "stream",
     "text": [
      "Our model correctly predicts outcome 72.72727272727273 % of the time on the testing set\n",
      "\n",
      "\n",
      "Learning rate = 0.0001\n"
     ]
    },
    {
     "data": {
      "image/png": "[encoded data removed]",
      "text/plain": [
       "<Figure size 432x288 with 1 Axes>"
      ]
     },
     "metadata": {
      "needs_background": "light"
     },
     "output_type": "display_data"
    },
    {
     "name": "stdout",
     "output_type": "stream",
     "text": [
      "Our model correctly predicts outcome 75.32467532467533 % of the time on the testing set\n",
      "\n",
      "\n",
      "Learning rate = 10\n"
     ]
    },
    {
     "data": {
      "image/png": "[encoded data removed]",
      "text/plain": [
       "<Figure size 432x288 with 1 Axes>"
      ]
     },
     "metadata": {
      "needs_background": "light"
     },
     "output_type": "display_data"
    },
    {
     "name": "stdout",
     "output_type": "stream",
     "text": [
      "Our model correctly predicts outcome 71.42857142857143 % of the time on the testing set\n"
     ]
    }
   ],
   "source": [
    "def graph(model):\n",
    "    plt.plot(np.arange(1, model.iters+1), model.losses)\n",
    "    plt.xlabel('number of epochs')\n",
    "    plt.ylabel('log loss')\n",
    "    plt.show()\n",
    "\n",
    "def accuracy(model):\n",
    "    accuracy = np.sum(model.predict(X_test)==y_test) / len(y_test)\n",
    "    print('Our model correctly predicts outcome', accuracy*100, '% of the time on the testing set')\n",
    "\n",
    "# iters = 50\n",
    "lrs = [0.01, 0.0001, 10]\n",
    "for lr in lrs:\n",
    "    model = LogisticRegression(lr, 50)\n",
    "    model.sgd(X_train, y_train, False)\n",
    "    print('\\n\\nLearning rate =', lr)\n",
    "    graph(model)\n",
    "    accuracy(model)"
   ]
  },
  {
   "cell_type": "markdown",
   "id": "1661178d",
   "metadata": {},
   "source": [
    "#### 0.01 learning rate is slower to converge than the original 0.1 taken by us, but it does reach convergence after about 30 iterations\n",
    "#### 0.0001 is too low for the learning rate, it will take an infeasibly large number of iterations to converge.\n",
    "#### 10 is too high, after some iterations the loss starts bouncing between 2 high loss values and does not reduce any further, it cannot reduce the loss to an acceptable level"
   ]
  },
  {
   "cell_type": "markdown",
   "id": "3689bf6c",
   "metadata": {},
   "source": [
    "# C"
   ]
  },
  {
   "cell_type": "code",
   "execution_count": 24,
   "id": "847f22d9",
   "metadata": {},
   "outputs": [],
   "source": [
    "def confusionMatrix(y, yh):\n",
    "    # n is number of classes\n",
    "    y = np.array(y)\n",
    "    yh = np.array(yh)\n",
    "    n = len(np.unique(y))\n",
    "    mat = np.zeros((n, n))\n",
    "    for i in range(len(y)):\n",
    "        mat[y[i]][yh[i]] += 1\n",
    "    return mat"
   ]
  },
  {
   "cell_type": "markdown",
   "id": "02b3ae10",
   "metadata": {},
   "source": [
    "## BGD"
   ]
  },
  {
   "cell_type": "code",
   "execution_count": 25,
   "id": "c570178a",
   "metadata": {},
   "outputs": [],
   "source": [
    "# lr = 0.05, iters = 500\n",
    "model = LogisticRegression(0.05, 500)\n",
    "model.bgd(X_train, y_train, False)"
   ]
  },
  {
   "cell_type": "code",
   "execution_count": 26,
   "id": "f0301e11",
   "metadata": {},
   "outputs": [
    {
     "name": "stdout",
     "output_type": "stream",
     "text": [
      "Confusion matrix:\n",
      " [[42. 11.]\n",
      " [10. 14.]]\n"
     ]
    }
   ],
   "source": [
    "cmat = confusionMatrix(np.array(y_test), model.predict(X_test))\n",
    "print('Confusion matrix:\\n', cmat)"
   ]
  },
  {
   "cell_type": "code",
   "execution_count": 27,
   "id": "cdf002f3",
   "metadata": {},
   "outputs": [
    {
     "name": "stdout",
     "output_type": "stream",
     "text": [
      "Accuracy: 0.7272727272727273\n",
      "Precision: 0.56\n",
      "Recall: 0.5833333333333334\n",
      "F1score: 0.5714285714285714\n"
     ]
    }
   ],
   "source": [
    "accuracy = (cmat[0][0] + cmat[1][1]) / np.sum(cmat)\n",
    "precision = (cmat[1][1]) / (cmat[1][1] + cmat[0][1])\n",
    "recall = (cmat[1][1]) / (cmat[1][1] + cmat[1][0])\n",
    "f1score = 2* (precision * recall) / (precision + recall)\n",
    "\n",
    "print('Accuracy:', accuracy)\n",
    "print('Precision:', precision)\n",
    "print('Recall:', recall)\n",
    "print('F1score:', f1score)"
   ]
  },
  {
   "cell_type": "markdown",
   "id": "5137ff27",
   "metadata": {},
   "source": [
    "## SGD"
   ]
  },
  {
   "cell_type": "code",
   "execution_count": 28,
   "id": "963747f5",
   "metadata": {},
   "outputs": [],
   "source": [
    "# lr = 0.05, iters = 25\n",
    "model = LogisticRegression(0.05, 25)\n",
    "model.sgd(X_train, y_train, False)"
   ]
  },
  {
   "cell_type": "code",
   "execution_count": 29,
   "id": "650ffe38",
   "metadata": {},
   "outputs": [
    {
     "name": "stdout",
     "output_type": "stream",
     "text": [
      "Confusion matrix:\n",
      " [[42. 11.]\n",
      " [10. 14.]]\n"
     ]
    }
   ],
   "source": [
    "cmat = confusionMatrix(np.array(y_test), model.predict(X_test))\n",
    "print('Confusion matrix:\\n', cmat)"
   ]
  },
  {
   "cell_type": "code",
   "execution_count": 30,
   "id": "1ece715c",
   "metadata": {},
   "outputs": [
    {
     "name": "stdout",
     "output_type": "stream",
     "text": [
      "Accuracy: 0.7272727272727273\n",
      "Precision: 0.56\n",
      "Recall: 0.5833333333333334\n",
      "F1score: 0.5714285714285714\n"
     ]
    }
   ],
   "source": [
    "accuracy = (cmat[0][0] + cmat[1][1]) / np.sum(cmat)\n",
    "precision = (cmat[1][1]) / (cmat[1][1] + cmat[0][1])\n",
    "recall = (cmat[1][1]) / (cmat[1][1] + cmat[1][0])\n",
    "f1score = 2* (precision * recall) / (precision + recall)\n",
    "\n",
    "print('Accuracy:', accuracy)\n",
    "print('Precision:', precision)\n",
    "print('Recall:', recall)\n",
    "print('F1score:', f1score)"
   ]
  },
  {
   "cell_type": "markdown",
   "id": "37e7a910",
   "metadata": {},
   "source": [
    "# Part 2"
   ]
  },
  {
   "cell_type": "markdown",
   "id": "7dc0b1ea",
   "metadata": {},
   "source": [
    "#### 0.01 is chosen as the learning rate, with maximum 50 iterations"
   ]
  },
  {
   "cell_type": "code",
   "execution_count": 31,
   "id": "c3e965cf",
   "metadata": {},
   "outputs": [],
   "source": [
    "from sklearn.linear_model import SGDClassifier\n",
    "from io import StringIO\n",
    "import sys"
   ]
  },
  {
   "cell_type": "markdown",
   "id": "b19c2fdf",
   "metadata": {},
   "source": [
    "## A"
   ]
  },
  {
   "cell_type": "code",
   "execution_count": 32,
   "id": "a408edc2",
   "metadata": {},
   "outputs": [
    {
     "data": {
      "image/png": "[encoded data removed]",
      "text/plain": [
       "<Figure size 432x288 with 1 Axes>"
      ]
     },
     "metadata": {
      "needs_background": "light"
     },
     "output_type": "display_data"
    }
   ],
   "source": [
    "old_stdout = sys.stdout\n",
    "sys.stdout = mystdout = StringIO()\n",
    "model = SGDClassifier(learning_rate='constant', eta0=0.01, loss='log', max_iter=50, verbose=1)\n",
    "model.fit(X_train, y_train)\n",
    "sys.stdout = old_stdout\n",
    "loss_history = mystdout.getvalue()\n",
    "loss_list = []\n",
    "for line in loss_history.split('\\n'):\n",
    "    if(len(line.split(\"loss: \")) == 1):\n",
    "        continue\n",
    "    loss_list.append(float(line.split(\"loss: \")[-1]))\n",
    "plt.figure()\n",
    "plt.plot(np.arange(len(loss_list)), loss_list)\n",
    "plt.xlabel(\"Number of epochs\")\n",
    "plt.ylabel(\"Log Loss\")\n",
    "plt.show()\n",
    "plt.close()"
   ]
  },
  {
   "cell_type": "markdown",
   "id": "d49a1873",
   "metadata": {},
   "source": [
    "#### SGDClassifier and our model both have the same kind of plot, and the final loss value is also similar for both"
   ]
  },
  {
   "cell_type": "markdown",
   "id": "9f5861cc",
   "metadata": {},
   "source": [
    "## B"
   ]
  },
  {
   "cell_type": "code",
   "execution_count": 33,
   "id": "e8cee2cd",
   "metadata": {},
   "outputs": [
    {
     "name": "stdout",
     "output_type": "stream",
     "text": [
      "SGDClassifier converged in 11 iterations\n"
     ]
    }
   ],
   "source": [
    "print('SGDClassifier converged in', model.n_iter_, 'iterations')"
   ]
  },
  {
   "cell_type": "markdown",
   "id": "711abbe1",
   "metadata": {},
   "source": [
    "#### sklearn SGDClassifer converges in around 10 epochs while our algorithm took more than 25 epochs, this may be because the sklearn model may use some extra optimisations that we have not"
   ]
  },
  {
   "cell_type": "markdown",
   "id": "4cb2e67b",
   "metadata": {},
   "source": [
    "## C"
   ]
  },
  {
   "cell_type": "code",
   "execution_count": 34,
   "id": "1a28f4dc",
   "metadata": {},
   "outputs": [
    {
     "name": "stdout",
     "output_type": "stream",
     "text": [
      "Accuracy: 0.7272727272727273\n",
      "Precision: 0.56\n",
      "Recall: 0.5833333333333334\n",
      "F1score: 0.5714285714285714\n"
     ]
    }
   ],
   "source": [
    "cmat = confusionMatrix(y_test, model.predict(X_test))\n",
    "accuracy = (cmat[0][0] + cmat[1][1]) / np.sum(cmat)\n",
    "precision = (cmat[1][1]) / (cmat[1][1] + cmat[0][1])\n",
    "recall = (cmat[1][1]) / (cmat[1][1] + cmat[1][0])\n",
    "f1score = 2* (precision * recall) / (precision + recall)\n",
    "\n",
    "print('Accuracy:', accuracy)\n",
    "print('Precision:', precision)\n",
    "print('Recall:', recall)\n",
    "print('F1score:', f1score)"
   ]
  },
  {
   "cell_type": "markdown",
   "id": "3cc86a11",
   "metadata": {},
   "source": [
    "#### Confusion matrix for both the SGDClassifier and our model is the same, so both perform similarly in terms of accuracy, precision, recall and f1score"
   ]
  },
  {
   "cell_type": "code",
   "execution_count": null,
   "id": "88a4e734",
   "metadata": {},
   "outputs": [],
   "source": []
  }
 ],
 "metadata": {
  "kernelspec": {
   "display_name": "Python 3 (ipykernel)",
   "language": "python",
   "name": "python3"
  },
  "language_info": {
   "codemirror_mode": {
    "name": "ipython",
    "version": 3
   },
   "file_extension": ".py",
   "mimetype": "text/x-python",
   "name": "python",
   "nbconvert_exporter": "python",
   "pygments_lexer": "ipython3",
   "version": "3.9.6"
  }
 },
 "nbformat": 4,
 "nbformat_minor": 5
}
