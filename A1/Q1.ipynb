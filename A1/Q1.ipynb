{
 "cells": [
  {
   "cell_type": "code",
   "execution_count": 1,
   "id": "63145d56",
   "metadata": {},
   "outputs": [],
   "source": [
    "import pandas as pd\n",
    "import numpy as np\n",
    "import matplotlib.pyplot as plt\n",
    "import seaborn as sns"
   ]
  },
  {
   "cell_type": "code",
   "execution_count": 2,
   "id": "1b634b59",
   "metadata": {},
   "outputs": [
    {
     "data": {
      "text/html": [
       "<div>\n",
       "<style scoped>\n",
       "    .dataframe tbody tr th:only-of-type {\n",
       "        vertical-align: middle;\n",
       "    }\n",
       "\n",
       "    .dataframe tbody tr th {\n",
       "        vertical-align: top;\n",
       "    }\n",
       "\n",
       "    .dataframe thead th {\n",
       "        text-align: right;\n",
       "    }\n",
       "</style>\n",
       "<table border=\"1\" class=\"dataframe\">\n",
       "  <thead>\n",
       "    <tr style=\"text-align: right;\">\n",
       "      <th></th>\n",
       "      <th>Sex</th>\n",
       "      <th>Length</th>\n",
       "      <th>Diameter</th>\n",
       "      <th>Height</th>\n",
       "      <th>Whole weight</th>\n",
       "      <th>Shucked weight</th>\n",
       "      <th>Viscera weight</th>\n",
       "      <th>Shell weight</th>\n",
       "      <th>Rings</th>\n",
       "    </tr>\n",
       "  </thead>\n",
       "  <tbody>\n",
       "    <tr>\n",
       "      <th>0</th>\n",
       "      <td>M</td>\n",
       "      <td>0.455</td>\n",
       "      <td>0.365</td>\n",
       "      <td>0.095</td>\n",
       "      <td>0.5140</td>\n",
       "      <td>0.2245</td>\n",
       "      <td>0.1010</td>\n",
       "      <td>0.150</td>\n",
       "      <td>15</td>\n",
       "    </tr>\n",
       "    <tr>\n",
       "      <th>1</th>\n",
       "      <td>M</td>\n",
       "      <td>0.350</td>\n",
       "      <td>0.265</td>\n",
       "      <td>0.090</td>\n",
       "      <td>0.2255</td>\n",
       "      <td>0.0995</td>\n",
       "      <td>0.0485</td>\n",
       "      <td>0.070</td>\n",
       "      <td>7</td>\n",
       "    </tr>\n",
       "    <tr>\n",
       "      <th>2</th>\n",
       "      <td>F</td>\n",
       "      <td>0.530</td>\n",
       "      <td>0.420</td>\n",
       "      <td>0.135</td>\n",
       "      <td>0.6770</td>\n",
       "      <td>0.2565</td>\n",
       "      <td>0.1415</td>\n",
       "      <td>0.210</td>\n",
       "      <td>9</td>\n",
       "    </tr>\n",
       "    <tr>\n",
       "      <th>3</th>\n",
       "      <td>M</td>\n",
       "      <td>0.440</td>\n",
       "      <td>0.365</td>\n",
       "      <td>0.125</td>\n",
       "      <td>0.5160</td>\n",
       "      <td>0.2155</td>\n",
       "      <td>0.1140</td>\n",
       "      <td>0.155</td>\n",
       "      <td>10</td>\n",
       "    </tr>\n",
       "    <tr>\n",
       "      <th>4</th>\n",
       "      <td>I</td>\n",
       "      <td>0.330</td>\n",
       "      <td>0.255</td>\n",
       "      <td>0.080</td>\n",
       "      <td>0.2050</td>\n",
       "      <td>0.0895</td>\n",
       "      <td>0.0395</td>\n",
       "      <td>0.055</td>\n",
       "      <td>7</td>\n",
       "    </tr>\n",
       "  </tbody>\n",
       "</table>\n",
       "</div>"
      ],
      "text/plain": [
       "  Sex  Length  Diameter  Height  Whole weight  Shucked weight  Viscera weight  \\\n",
       "0   M   0.455     0.365   0.095        0.5140          0.2245          0.1010   \n",
       "1   M   0.350     0.265   0.090        0.2255          0.0995          0.0485   \n",
       "2   F   0.530     0.420   0.135        0.6770          0.2565          0.1415   \n",
       "3   M   0.440     0.365   0.125        0.5160          0.2155          0.1140   \n",
       "4   I   0.330     0.255   0.080        0.2050          0.0895          0.0395   \n",
       "\n",
       "   Shell weight  Rings  \n",
       "0         0.150     15  \n",
       "1         0.070      7  \n",
       "2         0.210      9  \n",
       "3         0.155     10  \n",
       "4         0.055      7  "
      ]
     },
     "execution_count": 2,
     "metadata": {},
     "output_type": "execute_result"
    }
   ],
   "source": [
    "df = pd.read_csv('abalone.csv')\n",
    "df.head()"
   ]
  },
  {
   "cell_type": "markdown",
   "id": "7bc36350",
   "metadata": {},
   "source": [
    "## Preprocessing the data"
   ]
  },
  {
   "cell_type": "code",
   "execution_count": 3,
   "id": "bc613b35",
   "metadata": {},
   "outputs": [
    {
     "data": {
      "text/plain": [
       "(4177, 9)"
      ]
     },
     "execution_count": 3,
     "metadata": {},
     "output_type": "execute_result"
    }
   ],
   "source": [
    "df.shape"
   ]
  },
  {
   "cell_type": "markdown",
   "id": "f2fa3dd9",
   "metadata": {},
   "source": [
    "#### We have 4177 entries and 9 parameters"
   ]
  },
  {
   "cell_type": "code",
   "execution_count": 4,
   "id": "a55ca59f",
   "metadata": {},
   "outputs": [
    {
     "data": {
      "text/html": [
       "<div>\n",
       "<style scoped>\n",
       "    .dataframe tbody tr th:only-of-type {\n",
       "        vertical-align: middle;\n",
       "    }\n",
       "\n",
       "    .dataframe tbody tr th {\n",
       "        vertical-align: top;\n",
       "    }\n",
       "\n",
       "    .dataframe thead th {\n",
       "        text-align: right;\n",
       "    }\n",
       "</style>\n",
       "<table border=\"1\" class=\"dataframe\">\n",
       "  <thead>\n",
       "    <tr style=\"text-align: right;\">\n",
       "      <th></th>\n",
       "      <th>Length</th>\n",
       "      <th>Diameter</th>\n",
       "      <th>Height</th>\n",
       "      <th>Whole weight</th>\n",
       "      <th>Shucked weight</th>\n",
       "      <th>Viscera weight</th>\n",
       "      <th>Shell weight</th>\n",
       "      <th>Rings</th>\n",
       "    </tr>\n",
       "  </thead>\n",
       "  <tbody>\n",
       "    <tr>\n",
       "      <th>count</th>\n",
       "      <td>4177.000000</td>\n",
       "      <td>4177.000000</td>\n",
       "      <td>4177.000000</td>\n",
       "      <td>4177.000000</td>\n",
       "      <td>4177.000000</td>\n",
       "      <td>4177.000000</td>\n",
       "      <td>4177.000000</td>\n",
       "      <td>4177.000000</td>\n",
       "    </tr>\n",
       "    <tr>\n",
       "      <th>mean</th>\n",
       "      <td>0.523992</td>\n",
       "      <td>0.407881</td>\n",
       "      <td>0.139516</td>\n",
       "      <td>0.828742</td>\n",
       "      <td>0.359367</td>\n",
       "      <td>0.180594</td>\n",
       "      <td>0.238831</td>\n",
       "      <td>9.933684</td>\n",
       "    </tr>\n",
       "    <tr>\n",
       "      <th>std</th>\n",
       "      <td>0.120093</td>\n",
       "      <td>0.099240</td>\n",
       "      <td>0.041827</td>\n",
       "      <td>0.490389</td>\n",
       "      <td>0.221963</td>\n",
       "      <td>0.109614</td>\n",
       "      <td>0.139203</td>\n",
       "      <td>3.224169</td>\n",
       "    </tr>\n",
       "    <tr>\n",
       "      <th>min</th>\n",
       "      <td>0.075000</td>\n",
       "      <td>0.055000</td>\n",
       "      <td>0.000000</td>\n",
       "      <td>0.002000</td>\n",
       "      <td>0.001000</td>\n",
       "      <td>0.000500</td>\n",
       "      <td>0.001500</td>\n",
       "      <td>1.000000</td>\n",
       "    </tr>\n",
       "    <tr>\n",
       "      <th>25%</th>\n",
       "      <td>0.450000</td>\n",
       "      <td>0.350000</td>\n",
       "      <td>0.115000</td>\n",
       "      <td>0.441500</td>\n",
       "      <td>0.186000</td>\n",
       "      <td>0.093500</td>\n",
       "      <td>0.130000</td>\n",
       "      <td>8.000000</td>\n",
       "    </tr>\n",
       "    <tr>\n",
       "      <th>50%</th>\n",
       "      <td>0.545000</td>\n",
       "      <td>0.425000</td>\n",
       "      <td>0.140000</td>\n",
       "      <td>0.799500</td>\n",
       "      <td>0.336000</td>\n",
       "      <td>0.171000</td>\n",
       "      <td>0.234000</td>\n",
       "      <td>9.000000</td>\n",
       "    </tr>\n",
       "    <tr>\n",
       "      <th>75%</th>\n",
       "      <td>0.615000</td>\n",
       "      <td>0.480000</td>\n",
       "      <td>0.165000</td>\n",
       "      <td>1.153000</td>\n",
       "      <td>0.502000</td>\n",
       "      <td>0.253000</td>\n",
       "      <td>0.329000</td>\n",
       "      <td>11.000000</td>\n",
       "    </tr>\n",
       "    <tr>\n",
       "      <th>max</th>\n",
       "      <td>0.815000</td>\n",
       "      <td>0.650000</td>\n",
       "      <td>1.130000</td>\n",
       "      <td>2.825500</td>\n",
       "      <td>1.488000</td>\n",
       "      <td>0.760000</td>\n",
       "      <td>1.005000</td>\n",
       "      <td>29.000000</td>\n",
       "    </tr>\n",
       "  </tbody>\n",
       "</table>\n",
       "</div>"
      ],
      "text/plain": [
       "            Length     Diameter       Height  Whole weight  Shucked weight  \\\n",
       "count  4177.000000  4177.000000  4177.000000   4177.000000     4177.000000   \n",
       "mean      0.523992     0.407881     0.139516      0.828742        0.359367   \n",
       "std       0.120093     0.099240     0.041827      0.490389        0.221963   \n",
       "min       0.075000     0.055000     0.000000      0.002000        0.001000   \n",
       "25%       0.450000     0.350000     0.115000      0.441500        0.186000   \n",
       "50%       0.545000     0.425000     0.140000      0.799500        0.336000   \n",
       "75%       0.615000     0.480000     0.165000      1.153000        0.502000   \n",
       "max       0.815000     0.650000     1.130000      2.825500        1.488000   \n",
       "\n",
       "       Viscera weight  Shell weight        Rings  \n",
       "count     4177.000000   4177.000000  4177.000000  \n",
       "mean         0.180594      0.238831     9.933684  \n",
       "std          0.109614      0.139203     3.224169  \n",
       "min          0.000500      0.001500     1.000000  \n",
       "25%          0.093500      0.130000     8.000000  \n",
       "50%          0.171000      0.234000     9.000000  \n",
       "75%          0.253000      0.329000    11.000000  \n",
       "max          0.760000      1.005000    29.000000  "
      ]
     },
     "execution_count": 4,
     "metadata": {},
     "output_type": "execute_result"
    }
   ],
   "source": [
    "df.describe()"
   ]
  },
  {
   "cell_type": "markdown",
   "id": "4c487f5b",
   "metadata": {},
   "source": [
    "#### The minimum entry in Height column is 0, which is impossible, so we drop these entries."
   ]
  },
  {
   "cell_type": "code",
   "execution_count": 5,
   "id": "f736d830",
   "metadata": {},
   "outputs": [
    {
     "data": {
      "text/html": [
       "<div>\n",
       "<style scoped>\n",
       "    .dataframe tbody tr th:only-of-type {\n",
       "        vertical-align: middle;\n",
       "    }\n",
       "\n",
       "    .dataframe tbody tr th {\n",
       "        vertical-align: top;\n",
       "    }\n",
       "\n",
       "    .dataframe thead th {\n",
       "        text-align: right;\n",
       "    }\n",
       "</style>\n",
       "<table border=\"1\" class=\"dataframe\">\n",
       "  <thead>\n",
       "    <tr style=\"text-align: right;\">\n",
       "      <th></th>\n",
       "      <th>Length</th>\n",
       "      <th>Diameter</th>\n",
       "      <th>Height</th>\n",
       "      <th>Whole weight</th>\n",
       "      <th>Shucked weight</th>\n",
       "      <th>Viscera weight</th>\n",
       "      <th>Shell weight</th>\n",
       "      <th>Rings</th>\n",
       "    </tr>\n",
       "  </thead>\n",
       "  <tbody>\n",
       "    <tr>\n",
       "      <th>count</th>\n",
       "      <td>4175.000000</td>\n",
       "      <td>4175.00000</td>\n",
       "      <td>4175.000000</td>\n",
       "      <td>4175.000000</td>\n",
       "      <td>4175.000000</td>\n",
       "      <td>4175.000000</td>\n",
       "      <td>4175.000000</td>\n",
       "      <td>4175.000000</td>\n",
       "    </tr>\n",
       "    <tr>\n",
       "      <th>mean</th>\n",
       "      <td>0.524065</td>\n",
       "      <td>0.40794</td>\n",
       "      <td>0.139583</td>\n",
       "      <td>0.829005</td>\n",
       "      <td>0.359476</td>\n",
       "      <td>0.180653</td>\n",
       "      <td>0.238834</td>\n",
       "      <td>9.935090</td>\n",
       "    </tr>\n",
       "    <tr>\n",
       "      <th>std</th>\n",
       "      <td>0.120069</td>\n",
       "      <td>0.09922</td>\n",
       "      <td>0.041725</td>\n",
       "      <td>0.490349</td>\n",
       "      <td>0.221954</td>\n",
       "      <td>0.109605</td>\n",
       "      <td>0.139212</td>\n",
       "      <td>3.224227</td>\n",
       "    </tr>\n",
       "    <tr>\n",
       "      <th>min</th>\n",
       "      <td>0.075000</td>\n",
       "      <td>0.05500</td>\n",
       "      <td>0.010000</td>\n",
       "      <td>0.002000</td>\n",
       "      <td>0.001000</td>\n",
       "      <td>0.000500</td>\n",
       "      <td>0.001500</td>\n",
       "      <td>1.000000</td>\n",
       "    </tr>\n",
       "    <tr>\n",
       "      <th>25%</th>\n",
       "      <td>0.450000</td>\n",
       "      <td>0.35000</td>\n",
       "      <td>0.115000</td>\n",
       "      <td>0.442250</td>\n",
       "      <td>0.186250</td>\n",
       "      <td>0.093500</td>\n",
       "      <td>0.130000</td>\n",
       "      <td>8.000000</td>\n",
       "    </tr>\n",
       "    <tr>\n",
       "      <th>50%</th>\n",
       "      <td>0.545000</td>\n",
       "      <td>0.42500</td>\n",
       "      <td>0.140000</td>\n",
       "      <td>0.800000</td>\n",
       "      <td>0.336000</td>\n",
       "      <td>0.171000</td>\n",
       "      <td>0.234000</td>\n",
       "      <td>9.000000</td>\n",
       "    </tr>\n",
       "    <tr>\n",
       "      <th>75%</th>\n",
       "      <td>0.615000</td>\n",
       "      <td>0.48000</td>\n",
       "      <td>0.165000</td>\n",
       "      <td>1.153500</td>\n",
       "      <td>0.502000</td>\n",
       "      <td>0.253000</td>\n",
       "      <td>0.328750</td>\n",
       "      <td>11.000000</td>\n",
       "    </tr>\n",
       "    <tr>\n",
       "      <th>max</th>\n",
       "      <td>0.815000</td>\n",
       "      <td>0.65000</td>\n",
       "      <td>1.130000</td>\n",
       "      <td>2.825500</td>\n",
       "      <td>1.488000</td>\n",
       "      <td>0.760000</td>\n",
       "      <td>1.005000</td>\n",
       "      <td>29.000000</td>\n",
       "    </tr>\n",
       "  </tbody>\n",
       "</table>\n",
       "</div>"
      ],
      "text/plain": [
       "            Length    Diameter       Height  Whole weight  Shucked weight  \\\n",
       "count  4175.000000  4175.00000  4175.000000   4175.000000     4175.000000   \n",
       "mean      0.524065     0.40794     0.139583      0.829005        0.359476   \n",
       "std       0.120069     0.09922     0.041725      0.490349        0.221954   \n",
       "min       0.075000     0.05500     0.010000      0.002000        0.001000   \n",
       "25%       0.450000     0.35000     0.115000      0.442250        0.186250   \n",
       "50%       0.545000     0.42500     0.140000      0.800000        0.336000   \n",
       "75%       0.615000     0.48000     0.165000      1.153500        0.502000   \n",
       "max       0.815000     0.65000     1.130000      2.825500        1.488000   \n",
       "\n",
       "       Viscera weight  Shell weight        Rings  \n",
       "count     4175.000000   4175.000000  4175.000000  \n",
       "mean         0.180653      0.238834     9.935090  \n",
       "std          0.109605      0.139212     3.224227  \n",
       "min          0.000500      0.001500     1.000000  \n",
       "25%          0.093500      0.130000     8.000000  \n",
       "50%          0.171000      0.234000     9.000000  \n",
       "75%          0.253000      0.328750    11.000000  \n",
       "max          0.760000      1.005000    29.000000  "
      ]
     },
     "execution_count": 5,
     "metadata": {},
     "output_type": "execute_result"
    }
   ],
   "source": [
    "df = df[df['Height'] != 0]\n",
    "df.describe()"
   ]
  },
  {
   "cell_type": "markdown",
   "id": "59b8d959",
   "metadata": {},
   "source": [
    "#### We have to predict the age of the abalone, which is number of rings + 1.5, so we rename rings column and increase its values."
   ]
  },
  {
   "cell_type": "code",
   "execution_count": 6,
   "id": "14da2c63",
   "metadata": {},
   "outputs": [
    {
     "data": {
      "text/html": [
       "<div>\n",
       "<style scoped>\n",
       "    .dataframe tbody tr th:only-of-type {\n",
       "        vertical-align: middle;\n",
       "    }\n",
       "\n",
       "    .dataframe tbody tr th {\n",
       "        vertical-align: top;\n",
       "    }\n",
       "\n",
       "    .dataframe thead th {\n",
       "        text-align: right;\n",
       "    }\n",
       "</style>\n",
       "<table border=\"1\" class=\"dataframe\">\n",
       "  <thead>\n",
       "    <tr style=\"text-align: right;\">\n",
       "      <th></th>\n",
       "      <th>Sex</th>\n",
       "      <th>Length</th>\n",
       "      <th>Diameter</th>\n",
       "      <th>Height</th>\n",
       "      <th>Whole weight</th>\n",
       "      <th>Shucked weight</th>\n",
       "      <th>Viscera weight</th>\n",
       "      <th>Shell weight</th>\n",
       "      <th>Age</th>\n",
       "    </tr>\n",
       "  </thead>\n",
       "  <tbody>\n",
       "    <tr>\n",
       "      <th>0</th>\n",
       "      <td>M</td>\n",
       "      <td>0.455</td>\n",
       "      <td>0.365</td>\n",
       "      <td>0.095</td>\n",
       "      <td>0.5140</td>\n",
       "      <td>0.2245</td>\n",
       "      <td>0.1010</td>\n",
       "      <td>0.150</td>\n",
       "      <td>16.5</td>\n",
       "    </tr>\n",
       "    <tr>\n",
       "      <th>1</th>\n",
       "      <td>M</td>\n",
       "      <td>0.350</td>\n",
       "      <td>0.265</td>\n",
       "      <td>0.090</td>\n",
       "      <td>0.2255</td>\n",
       "      <td>0.0995</td>\n",
       "      <td>0.0485</td>\n",
       "      <td>0.070</td>\n",
       "      <td>8.5</td>\n",
       "    </tr>\n",
       "    <tr>\n",
       "      <th>2</th>\n",
       "      <td>F</td>\n",
       "      <td>0.530</td>\n",
       "      <td>0.420</td>\n",
       "      <td>0.135</td>\n",
       "      <td>0.6770</td>\n",
       "      <td>0.2565</td>\n",
       "      <td>0.1415</td>\n",
       "      <td>0.210</td>\n",
       "      <td>10.5</td>\n",
       "    </tr>\n",
       "    <tr>\n",
       "      <th>3</th>\n",
       "      <td>M</td>\n",
       "      <td>0.440</td>\n",
       "      <td>0.365</td>\n",
       "      <td>0.125</td>\n",
       "      <td>0.5160</td>\n",
       "      <td>0.2155</td>\n",
       "      <td>0.1140</td>\n",
       "      <td>0.155</td>\n",
       "      <td>11.5</td>\n",
       "    </tr>\n",
       "    <tr>\n",
       "      <th>4</th>\n",
       "      <td>I</td>\n",
       "      <td>0.330</td>\n",
       "      <td>0.255</td>\n",
       "      <td>0.080</td>\n",
       "      <td>0.2050</td>\n",
       "      <td>0.0895</td>\n",
       "      <td>0.0395</td>\n",
       "      <td>0.055</td>\n",
       "      <td>8.5</td>\n",
       "    </tr>\n",
       "  </tbody>\n",
       "</table>\n",
       "</div>"
      ],
      "text/plain": [
       "  Sex  Length  Diameter  Height  Whole weight  Shucked weight  Viscera weight  \\\n",
       "0   M   0.455     0.365   0.095        0.5140          0.2245          0.1010   \n",
       "1   M   0.350     0.265   0.090        0.2255          0.0995          0.0485   \n",
       "2   F   0.530     0.420   0.135        0.6770          0.2565          0.1415   \n",
       "3   M   0.440     0.365   0.125        0.5160          0.2155          0.1140   \n",
       "4   I   0.330     0.255   0.080        0.2050          0.0895          0.0395   \n",
       "\n",
       "   Shell weight   Age  \n",
       "0         0.150  16.5  \n",
       "1         0.070   8.5  \n",
       "2         0.210  10.5  \n",
       "3         0.155  11.5  \n",
       "4         0.055   8.5  "
      ]
     },
     "execution_count": 6,
     "metadata": {},
     "output_type": "execute_result"
    }
   ],
   "source": [
    "df.rename({'Rings': 'Age'}, axis=1, inplace=True)\n",
    "df['Age'] = df['Age'] + 1.5\n",
    "df.head()"
   ]
  },
  {
   "cell_type": "markdown",
   "id": "3e67ea4d",
   "metadata": {},
   "source": [
    "#### Checking and removing features that are highly correlated"
   ]
  },
  {
   "cell_type": "code",
   "execution_count": 8,
   "id": "fed06704",
   "metadata": {},
   "outputs": [
    {
     "data": {
      "image/png": "[encoded data removed]",
      "text/plain": [
       "<Figure size 1080x720 with 2 Axes>"
      ]
     },
     "metadata": {
      "needs_background": "light"
     },
     "output_type": "display_data"
    }
   ],
   "source": [
    "plt.figure(figsize=(15,10))\n",
    "corr = df.corr()\n",
    "sns.heatmap(corr, annot=True, cmap=plt.cm.Reds)\n",
    "plt.show()"
   ]
  },
  {
   "cell_type": "markdown",
   "id": "41fc171e",
   "metadata": {},
   "source": [
    "#### High positive correlation b/w some features."
   ]
  },
  {
   "cell_type": "code",
   "execution_count": 9,
   "id": "9480fc77",
   "metadata": {},
   "outputs": [
    {
     "data": {
      "text/plain": [
       "['Diameter', 'Shucked weight', 'Viscera weight', 'Shell weight']"
      ]
     },
     "execution_count": 9,
     "metadata": {},
     "output_type": "execute_result"
    }
   ],
   "source": [
    "upper_tri = corr.where(np.triu(np.ones(corr.shape),k=1).astype(bool))\n",
    "to_drop = [column for column in upper_tri.columns if any(upper_tri[column] > 0.95)]\n",
    "to_drop"
   ]
  },
  {
   "cell_type": "code",
   "execution_count": 10,
   "id": "bc37bccb",
   "metadata": {},
   "outputs": [
    {
     "data": {
      "text/html": [
       "<div>\n",
       "<style scoped>\n",
       "    .dataframe tbody tr th:only-of-type {\n",
       "        vertical-align: middle;\n",
       "    }\n",
       "\n",
       "    .dataframe tbody tr th {\n",
       "        vertical-align: top;\n",
       "    }\n",
       "\n",
       "    .dataframe thead th {\n",
       "        text-align: right;\n",
       "    }\n",
       "</style>\n",
       "<table border=\"1\" class=\"dataframe\">\n",
       "  <thead>\n",
       "    <tr style=\"text-align: right;\">\n",
       "      <th></th>\n",
       "      <th>Sex</th>\n",
       "      <th>Length</th>\n",
       "      <th>Height</th>\n",
       "      <th>Whole weight</th>\n",
       "      <th>Age</th>\n",
       "    </tr>\n",
       "  </thead>\n",
       "  <tbody>\n",
       "    <tr>\n",
       "      <th>0</th>\n",
       "      <td>M</td>\n",
       "      <td>0.455</td>\n",
       "      <td>0.095</td>\n",
       "      <td>0.5140</td>\n",
       "      <td>16.5</td>\n",
       "    </tr>\n",
       "    <tr>\n",
       "      <th>1</th>\n",
       "      <td>M</td>\n",
       "      <td>0.350</td>\n",
       "      <td>0.090</td>\n",
       "      <td>0.2255</td>\n",
       "      <td>8.5</td>\n",
       "    </tr>\n",
       "    <tr>\n",
       "      <th>2</th>\n",
       "      <td>F</td>\n",
       "      <td>0.530</td>\n",
       "      <td>0.135</td>\n",
       "      <td>0.6770</td>\n",
       "      <td>10.5</td>\n",
       "    </tr>\n",
       "    <tr>\n",
       "      <th>3</th>\n",
       "      <td>M</td>\n",
       "      <td>0.440</td>\n",
       "      <td>0.125</td>\n",
       "      <td>0.5160</td>\n",
       "      <td>11.5</td>\n",
       "    </tr>\n",
       "    <tr>\n",
       "      <th>4</th>\n",
       "      <td>I</td>\n",
       "      <td>0.330</td>\n",
       "      <td>0.080</td>\n",
       "      <td>0.2050</td>\n",
       "      <td>8.5</td>\n",
       "    </tr>\n",
       "  </tbody>\n",
       "</table>\n",
       "</div>"
      ],
      "text/plain": [
       "  Sex  Length  Height  Whole weight   Age\n",
       "0   M   0.455   0.095        0.5140  16.5\n",
       "1   M   0.350   0.090        0.2255   8.5\n",
       "2   F   0.530   0.135        0.6770  10.5\n",
       "3   M   0.440   0.125        0.5160  11.5\n",
       "4   I   0.330   0.080        0.2050   8.5"
      ]
     },
     "execution_count": 10,
     "metadata": {},
     "output_type": "execute_result"
    }
   ],
   "source": [
    "df.drop(to_drop, axis=1, inplace=True)\n",
    "df.head()"
   ]
  },
  {
   "cell_type": "markdown",
   "id": "602afb6a",
   "metadata": {},
   "source": [
    "#### Standardising the input data using StandardScaler"
   ]
  },
  {
   "cell_type": "code",
   "execution_count": 12,
   "id": "434321b7",
   "metadata": {},
   "outputs": [
    {
     "data": {
      "text/html": [
       "<div>\n",
       "<style scoped>\n",
       "    .dataframe tbody tr th:only-of-type {\n",
       "        vertical-align: middle;\n",
       "    }\n",
       "\n",
       "    .dataframe tbody tr th {\n",
       "        vertical-align: top;\n",
       "    }\n",
       "\n",
       "    .dataframe thead th {\n",
       "        text-align: right;\n",
       "    }\n",
       "</style>\n",
       "<table border=\"1\" class=\"dataframe\">\n",
       "  <thead>\n",
       "    <tr style=\"text-align: right;\">\n",
       "      <th></th>\n",
       "      <th>Sex</th>\n",
       "      <th>Length</th>\n",
       "      <th>Height</th>\n",
       "      <th>Whole weight</th>\n",
       "      <th>Age</th>\n",
       "    </tr>\n",
       "  </thead>\n",
       "  <tbody>\n",
       "    <tr>\n",
       "      <th>0</th>\n",
       "      <td>M</td>\n",
       "      <td>-0.575276</td>\n",
       "      <td>-1.068619</td>\n",
       "      <td>-0.642485</td>\n",
       "      <td>16.5</td>\n",
       "    </tr>\n",
       "    <tr>\n",
       "      <th>1</th>\n",
       "      <td>M</td>\n",
       "      <td>-1.449876</td>\n",
       "      <td>-1.188465</td>\n",
       "      <td>-1.230912</td>\n",
       "      <td>8.5</td>\n",
       "    </tr>\n",
       "    <tr>\n",
       "      <th>2</th>\n",
       "      <td>F</td>\n",
       "      <td>0.049438</td>\n",
       "      <td>-0.109856</td>\n",
       "      <td>-0.310030</td>\n",
       "      <td>10.5</td>\n",
       "    </tr>\n",
       "    <tr>\n",
       "      <th>3</th>\n",
       "      <td>M</td>\n",
       "      <td>-0.700219</td>\n",
       "      <td>-0.349547</td>\n",
       "      <td>-0.638406</td>\n",
       "      <td>11.5</td>\n",
       "    </tr>\n",
       "    <tr>\n",
       "      <th>4</th>\n",
       "      <td>I</td>\n",
       "      <td>-1.616466</td>\n",
       "      <td>-1.428155</td>\n",
       "      <td>-1.272724</td>\n",
       "      <td>8.5</td>\n",
       "    </tr>\n",
       "  </tbody>\n",
       "</table>\n",
       "</div>"
      ],
      "text/plain": [
       "  Sex    Length    Height  Whole weight   Age\n",
       "0   M -0.575276 -1.068619     -0.642485  16.5\n",
       "1   M -1.449876 -1.188465     -1.230912   8.5\n",
       "2   F  0.049438 -0.109856     -0.310030  10.5\n",
       "3   M -0.700219 -0.349547     -0.638406  11.5\n",
       "4   I -1.616466 -1.428155     -1.272724   8.5"
      ]
     },
     "execution_count": 12,
     "metadata": {},
     "output_type": "execute_result"
    }
   ],
   "source": [
    "from sklearn.preprocessing import StandardScaler\n",
    "scaler = StandardScaler()\n",
    "df[df.columns[1:-1]] = scaler.fit_transform(df[df.columns[1:-1]])\n",
    "df.head()"
   ]
  },
  {
   "cell_type": "markdown",
   "id": "b10e5fa5",
   "metadata": {},
   "source": [
    "#### Coding gender as integer, I = 0, M = 1, F = 2"
   ]
  },
  {
   "cell_type": "code",
   "execution_count": 13,
   "id": "05d14df0",
   "metadata": {},
   "outputs": [
    {
     "data": {
      "text/html": [
       "<div>\n",
       "<style scoped>\n",
       "    .dataframe tbody tr th:only-of-type {\n",
       "        vertical-align: middle;\n",
       "    }\n",
       "\n",
       "    .dataframe tbody tr th {\n",
       "        vertical-align: top;\n",
       "    }\n",
       "\n",
       "    .dataframe thead th {\n",
       "        text-align: right;\n",
       "    }\n",
       "</style>\n",
       "<table border=\"1\" class=\"dataframe\">\n",
       "  <thead>\n",
       "    <tr style=\"text-align: right;\">\n",
       "      <th></th>\n",
       "      <th>Sex</th>\n",
       "      <th>Length</th>\n",
       "      <th>Height</th>\n",
       "      <th>Whole weight</th>\n",
       "      <th>Age</th>\n",
       "    </tr>\n",
       "  </thead>\n",
       "  <tbody>\n",
       "    <tr>\n",
       "      <th>0</th>\n",
       "      <td>1</td>\n",
       "      <td>-0.575276</td>\n",
       "      <td>-1.068619</td>\n",
       "      <td>-0.642485</td>\n",
       "      <td>16.5</td>\n",
       "    </tr>\n",
       "    <tr>\n",
       "      <th>1</th>\n",
       "      <td>1</td>\n",
       "      <td>-1.449876</td>\n",
       "      <td>-1.188465</td>\n",
       "      <td>-1.230912</td>\n",
       "      <td>8.5</td>\n",
       "    </tr>\n",
       "    <tr>\n",
       "      <th>2</th>\n",
       "      <td>2</td>\n",
       "      <td>0.049438</td>\n",
       "      <td>-0.109856</td>\n",
       "      <td>-0.310030</td>\n",
       "      <td>10.5</td>\n",
       "    </tr>\n",
       "    <tr>\n",
       "      <th>3</th>\n",
       "      <td>1</td>\n",
       "      <td>-0.700219</td>\n",
       "      <td>-0.349547</td>\n",
       "      <td>-0.638406</td>\n",
       "      <td>11.5</td>\n",
       "    </tr>\n",
       "    <tr>\n",
       "      <th>4</th>\n",
       "      <td>0</td>\n",
       "      <td>-1.616466</td>\n",
       "      <td>-1.428155</td>\n",
       "      <td>-1.272724</td>\n",
       "      <td>8.5</td>\n",
       "    </tr>\n",
       "  </tbody>\n",
       "</table>\n",
       "</div>"
      ],
      "text/plain": [
       "   Sex    Length    Height  Whole weight   Age\n",
       "0    1 -0.575276 -1.068619     -0.642485  16.5\n",
       "1    1 -1.449876 -1.188465     -1.230912   8.5\n",
       "2    2  0.049438 -0.109856     -0.310030  10.5\n",
       "3    1 -0.700219 -0.349547     -0.638406  11.5\n",
       "4    0 -1.616466 -1.428155     -1.272724   8.5"
      ]
     },
     "execution_count": 13,
     "metadata": {},
     "output_type": "execute_result"
    }
   ],
   "source": [
    "df['Sex'].replace(['I','M','F'], [0,1,2], inplace=True)\n",
    "df.head()"
   ]
  },
  {
   "cell_type": "markdown",
   "id": "f7510d1c",
   "metadata": {},
   "source": [
    "#### Splitting data into train test sets with seed 0"
   ]
  },
  {
   "cell_type": "code",
   "execution_count": 14,
   "id": "120e6158",
   "metadata": {},
   "outputs": [
    {
     "name": "stdout",
     "output_type": "stream",
     "text": [
      "Training set size: 3340\n",
      "Testing set size: 835\n"
     ]
    }
   ],
   "source": [
    "train = df.sample(frac=0.8, random_state=0)\n",
    "test = df.drop(train.index)\n",
    "print('Training set size:', train.shape[0])\n",
    "print('Testing set size:', test.shape[0])"
   ]
  },
  {
   "cell_type": "markdown",
   "id": "7cd6806f",
   "metadata": {},
   "source": [
    "#### Splitting data into input and output"
   ]
  },
  {
   "cell_type": "code",
   "execution_count": 15,
   "id": "cdf43d46",
   "metadata": {},
   "outputs": [],
   "source": [
    "X_train = train.iloc[:, :-1]\n",
    "y_train = train.iloc[:, -1]\n",
    "X_test = test.iloc[:, :-1]\n",
    "y_test = test.iloc[:, -1]"
   ]
  },
  {
   "cell_type": "markdown",
   "id": "52bb2b13",
   "metadata": {},
   "source": [
    "## Part 1: Performing Linear Regression\n",
    "#### Linear regression will be implemented using gradient descent"
   ]
  },
  {
   "cell_type": "code",
   "execution_count": 60,
   "id": "d469e834",
   "metadata": {},
   "outputs": [],
   "source": [
    "class LinearRegression():\n",
    "    def __init__(self, alpha, max_iter, threshold):\n",
    "        self.alpha = alpha\n",
    "        self.max_iter = max_iter\n",
    "        self.threshold = threshold\n",
    "    \n",
    "    def fit(self, x, y):\n",
    "        # number of training samples and numebr of features\n",
    "        m, n = x.shape\n",
    "        # initialising weights and bias\n",
    "        self.w = np.zeros(n)\n",
    "        self.b = 0\n",
    "        \n",
    "        # iterating until error is negligible or max number of iterations is reached\n",
    "        for i in range(self.max_iter):\n",
    "            y_pred = self.predict(x)\n",
    "            if(error(y_pred, y) < self.threshold):\n",
    "                break\n",
    "            self.update(x, y, y_pred)\n",
    "    \n",
    "    def update(self, x, y, y_pred):\n",
    "        m, n = x.shape\n",
    "        # gradients for weights and bias\n",
    "        dw = -( 2 * (x.T).dot(y - y_pred) ) / m\n",
    "        db = -( 2 * np.sum(y - y_pred) ) / m\n",
    "        \n",
    "        # updating the weights\n",
    "        self.w = self.w - self.alpha * dw\n",
    "        self.b = self.b - self.alpha * db\n",
    "    \n",
    "    def predict(self, x):\n",
    "        return x.dot(self.w) + self.b\n",
    "    # class ends here\n",
    "\n",
    "def error(y_pred, y):\n",
    "    # calculates RMSE for the given predictions\n",
    "    e = np.sum((y - y_pred)**2) / len(y)\n",
    "    return np.sqrt(e)"
   ]
  },
  {
   "cell_type": "code",
   "execution_count": 161,
   "id": "a999d804",
   "metadata": {},
   "outputs": [],
   "source": [
    "# training the model\n",
    "model = LinearRegression(0.01, 500, 1e-6)\n",
    "model.fit(X_train, y_train)"
   ]
  },
  {
   "cell_type": "code",
   "execution_count": 162,
   "id": "676dd2a0",
   "metadata": {},
   "outputs": [
    {
     "name": "stdout",
     "output_type": "stream",
     "text": [
      "RMSE on training set is: 2.580481923891489\n"
     ]
    }
   ],
   "source": [
    "# RMSE on training set\n",
    "y_pred = model.predict(X_train)\n",
    "rmse = error(y_pred, y_train)\n",
    "print('RMSE on training set is:', rmse)"
   ]
  },
  {
   "cell_type": "code",
   "execution_count": 163,
   "id": "effcc14c",
   "metadata": {},
   "outputs": [
    {
     "name": "stdout",
     "output_type": "stream",
     "text": [
      "RMSE on testing set is: 2.8679157555606984\n"
     ]
    }
   ],
   "source": [
    "# RMSE on testing set\n",
    "y_pred = model.predict(X_test)\n",
    "rmse = error(y_pred, y_test)\n",
    "print('RMSE on testing set is:', rmse)"
   ]
  },
  {
   "cell_type": "markdown",
   "id": "ab71a9bd",
   "metadata": {},
   "source": [
    "## Part 2: Ridge regression and lasso regression"
   ]
  },
  {
   "cell_type": "markdown",
   "id": "c97da6d3",
   "metadata": {},
   "source": [
    "## A: Ridge and Lasso regression"
   ]
  },
  {
   "cell_type": "markdown",
   "id": "b2584de3",
   "metadata": {},
   "source": [
    "### Ridge regression"
   ]
  },
  {
   "cell_type": "code",
   "execution_count": 230,
   "id": "72a344eb",
   "metadata": {
    "scrolled": false
   },
   "outputs": [
    {
     "name": "stdout",
     "output_type": "stream",
     "text": [
      "alpha values:\n"
     ]
    },
    {
     "data": {
      "text/plain": [
       "[1e-05,\n",
       " 0.001,\n",
       " 0.01,\n",
       " 0.1,\n",
       " 0.5,\n",
       " 1.0,\n",
       " 5.0,\n",
       " 25.0,\n",
       " 100.0,\n",
       " 250.0,\n",
       " 1000.0,\n",
       " 5000.0,\n",
       " 10000.0]"
      ]
     },
     "execution_count": 230,
     "metadata": {},
     "output_type": "execute_result"
    }
   ],
   "source": [
    "from sklearn.linear_model import Ridge\n",
    "alphas = {'alpha': [1e-5, 1e-3, 1e-2, 1e-1, 5e-1, 1.0, 5.0, 25.0, 100.0, 250.0, 1000.0, 5000.0, 10000.0]}\n",
    "scores = []\n",
    "coeffs = []\n",
    "\n",
    "for i in range(len(alphas['alpha'])):\n",
    "    model = Ridge(alpha=alphas['alpha'][i])\n",
    "    model.fit(X_train, y_train)\n",
    "    y_pred = model.predict(X_test)\n",
    "    scores.append(error(y_pred, y_test))\n",
    "    coeffs.append(model.coef_)\n",
    "\n",
    "print('alpha values:')\n",
    "alphas['alpha']"
   ]
  },
  {
   "cell_type": "code",
   "execution_count": 231,
   "id": "c7d686a2",
   "metadata": {},
   "outputs": [
    {
     "data": {
      "image/png": "[encoded data removed]",
      "text/plain": [
       "<Figure size 432x288 with 1 Axes>"
      ]
     },
     "metadata": {
      "needs_background": "light"
     },
     "output_type": "display_data"
    }
   ],
   "source": [
    "ax = plt.gca()\n",
    "\n",
    "ax.plot(alphas['alpha'], coeffs, marker='o')\n",
    "ax.set_xscale('log')\n",
    "#ax.set_xlim(ax.get_xlim()[::-1])  # reverse axis\n",
    "plt.xlabel('alpha')\n",
    "plt.ylabel('weights')\n",
    "plt.title('Ridge coefficients as a function of the regularization')\n",
    "plt.axis('tight')\n",
    "plt.show()"
   ]
  },
  {
   "cell_type": "code",
   "execution_count": 232,
   "id": "e98e51a9",
   "metadata": {
    "scrolled": false
   },
   "outputs": [
    {
     "data": {
      "image/png": "[encoded data removed]",
      "text/plain": [
       "<Figure size 432x288 with 1 Axes>"
      ]
     },
     "metadata": {
      "needs_background": "light"
     },
     "output_type": "display_data"
    }
   ],
   "source": [
    "# plotting scores vs alpha\n",
    "plt.plot(alphas['alpha'], scores, marker='o', markerfacecolor='red', linestyle='dashed')\n",
    "plt.xlabel('alpha')\n",
    "plt.ylabel('score')\n",
    "plt.title('Scores for different alphas')\n",
    "plt.show()"
   ]
  },
  {
   "cell_type": "markdown",
   "id": "463c461d",
   "metadata": {},
   "source": [
    "#### Our model shows consistent performance across most low alpha values, only after increasing the value of alpha beyond the thousands does the RMSE noticably increase\n",
    "#### What this may mean is that we have correctly identified the useful features during feature selection, so the performance of the model remains consistent"
   ]
  },
  {
   "cell_type": "code",
   "execution_count": 233,
   "id": "789ea596",
   "metadata": {},
   "outputs": [
    {
     "name": "stdout",
     "output_type": "stream",
     "text": [
      "The best performing parameter value in Ridge regression is: 1e-05 with an RMSE of: 2.8165659255656754\n",
      "Best performing coefficients are: [0.55172339 0.76053623 0.84689368 0.08772778]\n"
     ]
    }
   ],
   "source": [
    "idx = np.argmin(scores)\n",
    "best_coef_ridge = coeffs[idx]\n",
    "print('The best performing parameter value in Ridge regression is:', alphas['alpha'][idx], 'with an RMSE of:', scores[idx])\n",
    "print('Best performing coefficients are:', best_coef_ridge)"
   ]
  },
  {
   "cell_type": "markdown",
   "id": "8a4defea",
   "metadata": {},
   "source": [
    "### Lasso regression"
   ]
  },
  {
   "cell_type": "code",
   "execution_count": 235,
   "id": "ad88fc63",
   "metadata": {
    "scrolled": false
   },
   "outputs": [
    {
     "name": "stdout",
     "output_type": "stream",
     "text": [
      "alpha values:\n"
     ]
    },
    {
     "data": {
      "text/plain": [
       "[1e-05,\n",
       " 0.001,\n",
       " 0.01,\n",
       " 0.1,\n",
       " 0.5,\n",
       " 1.0,\n",
       " 5.0,\n",
       " 25.0,\n",
       " 100.0,\n",
       " 250.0,\n",
       " 1000.0,\n",
       " 5000.0,\n",
       " 10000.0]"
      ]
     },
     "execution_count": 235,
     "metadata": {},
     "output_type": "execute_result"
    }
   ],
   "source": [
    "from sklearn.linear_model import Lasso\n",
    "scores = []\n",
    "coeffs = []\n",
    "\n",
    "for i in range(len(alphas['alpha'])):\n",
    "    model = Lasso(alpha=alphas['alpha'][i])\n",
    "    model.fit(X_train, y_train)\n",
    "    y_pred = model.predict(X_test)\n",
    "    scores.append(error(y_pred, y_test))\n",
    "    coeffs.append(model.coef_)\n",
    "\n",
    "print('alpha values:')\n",
    "alphas['alpha']"
   ]
  },
  {
   "cell_type": "code",
   "execution_count": 237,
   "id": "b0d74685",
   "metadata": {},
   "outputs": [
    {
     "data": {
      "image/png": "[encoded data removed]",
      "text/plain": [
       "<Figure size 432x288 with 1 Axes>"
      ]
     },
     "metadata": {
      "needs_background": "light"
     },
     "output_type": "display_data"
    }
   ],
   "source": [
    "ax = plt.gca()\n",
    "\n",
    "ax.plot(alphas['alpha'], coeffs, marker='o')\n",
    "ax.set_xscale('log')\n",
    "#ax.set_xlim(ax.get_xlim()[::-1])  # reverse axis\n",
    "plt.xlabel('alpha')\n",
    "plt.ylabel('weights')\n",
    "plt.title('Lasso coefficients as a function of the regularization')\n",
    "plt.axis('tight')\n",
    "plt.show()"
   ]
  },
  {
   "cell_type": "code",
   "execution_count": 236,
   "id": "68deb96d",
   "metadata": {
    "scrolled": false
   },
   "outputs": [
    {
     "data": {
      "image/png": "[encoded data removed]",
      "text/plain": [
       "<Figure size 432x288 with 1 Axes>"
      ]
     },
     "metadata": {
      "needs_background": "light"
     },
     "output_type": "display_data"
    }
   ],
   "source": [
    "# plotting scores vs alpha\n",
    "plt.plot(alphas['alpha'], scores, marker='o', markerfacecolor='red', linestyle='dashed')\n",
    "plt.xlabel('alpha')\n",
    "plt.ylabel('score')\n",
    "plt.title('Scores for different alphas')\n",
    "plt.show()"
   ]
  },
  {
   "cell_type": "markdown",
   "id": "a4f37ff8",
   "metadata": {},
   "source": [
    "#### Our model shows consistent performance across alpha values less than 1, afterwards increasing the value of alpha increases the RMSE noticably\n",
    "#### What this may mean is that we have correctly identified the useful features during feature selection, so the performance of the model remains consistent"
   ]
  },
  {
   "cell_type": "code",
   "execution_count": 238,
   "id": "e234d9d0",
   "metadata": {},
   "outputs": [
    {
     "name": "stdout",
     "output_type": "stream",
     "text": [
      "The best performing parameter value in Lasso regression is: 1e-05 with an RMSE of: 2.816566685747256\n",
      "Best performing coefficients are: [0.55170966 0.7605449  0.84689456 0.08771438]\n"
     ]
    }
   ],
   "source": [
    "idx = np.argmin(scores)\n",
    "best_coef_lasso = coeffs[idx]\n",
    "print('The best performing parameter value in Lasso regression is:', alphas['alpha'][idx], 'with an RMSE of:', scores[idx])\n",
    "print('Best performing coefficients are:', best_coef_lasso)"
   ]
  },
  {
   "cell_type": "markdown",
   "id": "83d9f142",
   "metadata": {},
   "source": [
    "## B: Grid Search"
   ]
  },
  {
   "cell_type": "markdown",
   "id": "2f0d6ab8",
   "metadata": {},
   "source": [
    "### Ridge regression"
   ]
  },
  {
   "cell_type": "code",
   "execution_count": 239,
   "id": "bbde3390",
   "metadata": {},
   "outputs": [
    {
     "data": {
      "text/plain": [
       "GridSearchCV(estimator=Ridge(),\n",
       "             param_grid={'alpha': [1e-05, 0.001, 0.01, 0.1, 0.5, 1.0, 5.0, 25.0,\n",
       "                                   100.0, 250.0, 1000.0, 5000.0, 10000.0]},\n",
       "             scoring='neg_root_mean_squared_error')"
      ]
     },
     "execution_count": 239,
     "metadata": {},
     "output_type": "execute_result"
    }
   ],
   "source": [
    "from sklearn.model_selection import GridSearchCV\n",
    "\n",
    "ridge = Ridge()\n",
    "models = GridSearchCV(ridge, alphas, scoring='neg_root_mean_squared_error')\n",
    "models.fit(X_train, y_train)"
   ]
  },
  {
   "cell_type": "code",
   "execution_count": 240,
   "id": "6bbc5ea3",
   "metadata": {},
   "outputs": [
    {
     "name": "stdout",
     "output_type": "stream",
     "text": [
      "The best performing parameter value in Ridge regression is: 1000.0 with an RMSE of: 2.5576014778350538\n",
      "Best performing coefficients are: [0.42417945 0.53567875 0.64001509 0.39533213]\n"
     ]
    }
   ],
   "source": [
    "print('The best performing parameter value in Ridge regression is:', models.best_estimator_.alpha,\n",
    "      'with an RMSE of:', -models.best_score_)\n",
    "coef = models.best_estimator_.coef_\n",
    "print('Best performing coefficients are:', coef)"
   ]
  },
  {
   "cell_type": "code",
   "execution_count": 243,
   "id": "b7bc63bb",
   "metadata": {},
   "outputs": [
    {
     "data": {
      "image/png": "[encoded data removed]",
      "text/plain": [
       "<Figure size 432x288 with 1 Axes>"
      ]
     },
     "metadata": {
      "needs_background": "light"
     },
     "output_type": "display_data"
    }
   ],
   "source": [
    "plt.plot(coef, linestyle='dashed', marker='o', markersize=5, color='red', label='Gridsearch Ridge')\n",
    "plt.plot(best_coef_ridge, linestyle='dashed', marker='o', markersize=5, color='blue', label='Normal Ridge')\n",
    "plt.xlabel('Coefficient Index',fontsize=16)\n",
    "plt.ylabel('Coefficient Magnitude',fontsize=16)\n",
    "plt.legend(fontsize=13,loc=4)\n",
    "plt.show()"
   ]
  },
  {
   "cell_type": "markdown",
   "id": "cfcc2511",
   "metadata": {},
   "source": [
    "#### Gridsearch coefficients are larger because the alpha chosen is larger, shrinking the coefficients more, which means larger coefficients are needed"
   ]
  },
  {
   "cell_type": "markdown",
   "id": "8a763f68",
   "metadata": {},
   "source": [
    "#### GridSearchCV returns a different optimal alpha value and also lower RMSE across the board, this may be due to cross validation being used"
   ]
  },
  {
   "cell_type": "markdown",
   "id": "2ff1b660",
   "metadata": {},
   "source": [
    "### Lasso regression"
   ]
  },
  {
   "cell_type": "code",
   "execution_count": 245,
   "id": "45d38aa1",
   "metadata": {},
   "outputs": [
    {
     "data": {
      "text/plain": [
       "GridSearchCV(estimator=Lasso(),\n",
       "             param_grid={'alpha': [1e-05, 0.001, 0.01, 0.1, 0.5, 1.0, 5.0, 25.0,\n",
       "                                   100.0, 250.0, 1000.0, 5000.0, 10000.0]},\n",
       "             scoring='neg_root_mean_squared_error')"
      ]
     },
     "execution_count": 245,
     "metadata": {},
     "output_type": "execute_result"
    }
   ],
   "source": [
    "from sklearn.model_selection import GridSearchCV\n",
    "\n",
    "lasso = Lasso()\n",
    "models = GridSearchCV(lasso, alphas, scoring='neg_root_mean_squared_error')\n",
    "models.fit(X_train, y_train)"
   ]
  },
  {
   "cell_type": "code",
   "execution_count": 246,
   "id": "5cde866d",
   "metadata": {},
   "outputs": [
    {
     "name": "stdout",
     "output_type": "stream",
     "text": [
      "The best performing parameter value in Lasso regression is: 0.1 with an RMSE of: 2.622142891683688\n",
      "Best performing coefficients are: [0.42934846 0.75439959 0.8145     0.06735914]\n"
     ]
    }
   ],
   "source": [
    "print('The best performing parameter value in Lasso regression is:', models.best_estimator_.alpha,\n",
    "      'with an RMSE of:', -models.best_score_)\n",
    "coef = models.best_estimator_.coef_\n",
    "print('Best performing coefficients are:', coef)"
   ]
  },
  {
   "cell_type": "code",
   "execution_count": 247,
   "id": "e17e905b",
   "metadata": {},
   "outputs": [
    {
     "data": {
      "image/png": "[encoded data removed]",
      "text/plain": [
       "<Figure size 432x288 with 1 Axes>"
      ]
     },
     "metadata": {
      "needs_background": "light"
     },
     "output_type": "display_data"
    }
   ],
   "source": [
    "plt.plot(coef, linestyle='dashed', marker='o', markersize=5, color='red', label='Gridsearch Lasso')\n",
    "plt.plot(best_coef_ridge, linestyle='dashed', marker='o', markersize=5, color='blue', label='Normal Lasso')\n",
    "plt.xlabel('Coefficient Index',fontsize=16)\n",
    "plt.ylabel('Coefficient Magnitude',fontsize=16)\n",
    "plt.legend(fontsize=13,loc=4)\n",
    "plt.show()"
   ]
  },
  {
   "cell_type": "markdown",
   "id": "848f3275",
   "metadata": {},
   "source": [
    "#### Gridsearch coefficients are similar in size because alpha is small, so less shrinking is done"
   ]
  },
  {
   "cell_type": "markdown",
   "id": "682a01cf",
   "metadata": {},
   "source": [
    "#### GridSearchCV returns a different optimal alpha value and also lower RMSE across the board, this may be due to cross validation being used"
   ]
  },
  {
   "cell_type": "code",
   "execution_count": null,
   "id": "13c74752",
   "metadata": {},
   "outputs": [],
   "source": []
  }
 ],
 "metadata": {
  "kernelspec": {
   "display_name": "Python 3 (ipykernel)",
   "language": "python",
   "name": "python3"
  },
  "language_info": {
   "codemirror_mode": {
    "name": "ipython",
    "version": 3
   },
   "file_extension": ".py",
   "mimetype": "text/x-python",
   "name": "python",
   "nbconvert_exporter": "python",
   "pygments_lexer": "ipython3",
   "version": "3.9.6"
  }
 },
 "nbformat": 4,
 "nbformat_minor": 5
}
