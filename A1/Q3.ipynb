{
 "cells": [
  {
   "cell_type": "code",
   "execution_count": 169,
   "id": "e65681ee",
   "metadata": {},
   "outputs": [],
   "source": [
    "import numpy as np\n",
    "import matplotlib.pyplot as plt\n",
    "from mlxtend.data import loadlocal_mnist\n",
    "import pathlib"
   ]
  },
  {
   "cell_type": "code",
   "execution_count": 170,
   "id": "d1bdfc6c",
   "metadata": {},
   "outputs": [],
   "source": [
    "X_train, Y_train = loadlocal_mnist(\n",
    "    images_path='train-images-idx3-ubyte', labels_path='train-labels-idx1-ubyte')\n",
    "X_test, Y_test = loadlocal_mnist(\n",
    "    images_path='t10k-images-idx3-ubyte', labels_path='t10k-labels-idx1-ubyte')"
   ]
  },
  {
   "cell_type": "code",
   "execution_count": 171,
   "id": "27bd9701",
   "metadata": {},
   "outputs": [
    {
     "name": "stdout",
     "output_type": "stream",
     "text": [
      "X_train: (60000, 784)\n",
      "Y_train: (60000,)\n",
      "X_test:  (10000, 784)\n",
      "Y_test:  (10000,)\n"
     ]
    }
   ],
   "source": [
    "print('X_train: ' + str(X_train.shape))\n",
    "print('Y_train: ' + str(Y_train.shape))\n",
    "print('X_test:  '  + str(X_test.shape))\n",
    "print('Y_test:  '  + str(Y_test.shape))"
   ]
  },
  {
   "cell_type": "code",
   "execution_count": 172,
   "id": "982f4ffb",
   "metadata": {},
   "outputs": [],
   "source": [
    "#separating data into target classes and storing indexes\n",
    "citr = []\n",
    "cite = []\n",
    "for i in (1, 2):\n",
    "    citr.append(np.argwhere(Y_train == i))\n",
    "    cite.append(np.argwhere(Y_test == i))\n",
    "\n",
    "citr = np.array(citr)\n",
    "cite = np.array(cite)"
   ]
  },
  {
   "cell_type": "markdown",
   "id": "ef9cba8a",
   "metadata": {},
   "source": [
    "### Separating trouser and pullover images/labels from other cloth types"
   ]
  },
  {
   "cell_type": "code",
   "execution_count": 173,
   "id": "9788cec5",
   "metadata": {},
   "outputs": [],
   "source": [
    "X_train2 = X_train[np.append(citr[0], citr[1])]\n",
    "X_test2 = X_test[np.append(cite[0], cite[1])]\n",
    "Y_train2 = Y_train[np.append(citr[0], citr[1])]\n",
    "Y_test2 = Y_test[np.append(cite[0], cite[1])]"
   ]
  },
  {
   "cell_type": "code",
   "execution_count": 174,
   "id": "9fed46c7",
   "metadata": {},
   "outputs": [
    {
     "name": "stdout",
     "output_type": "stream",
     "text": [
      "Number of trouser images: 6000\n",
      "Number of pullover images: 6000\n"
     ]
    }
   ],
   "source": [
    "ci = []\n",
    "for i in (1, 2):\n",
    "    ci.append(np.argwhere(Y_train2 == i))\n",
    "print('Number of trouser images:', len(ci[0]))\n",
    "print('Number of pullover images:', len(ci[1]))"
   ]
  },
  {
   "cell_type": "markdown",
   "id": "b7f2058d",
   "metadata": {},
   "source": [
    "#### As the number of samples of both classes are the same, our class prior probabilties are 1/2 for both."
   ]
  },
  {
   "cell_type": "markdown",
   "id": "871a5f76",
   "metadata": {},
   "source": [
    "### Binarizing data"
   ]
  },
  {
   "cell_type": "code",
   "execution_count": 175,
   "id": "817a8712",
   "metadata": {},
   "outputs": [],
   "source": [
    "def binarize(x):\n",
    "    for i in range(x.shape[0]):\n",
    "        for j in range(x.shape[1]):\n",
    "            if(x[i][j] > 127):\n",
    "                x[i][j] = 1\n",
    "            else:\n",
    "                x[i][j] = 0\n",
    "\n",
    "if pathlib.Path('xtrain2.npy').exists():\n",
    "    X_train2 = np.load('xtrain2.npy')\n",
    "else:\n",
    "    binarize(X_train2)\n",
    "    np.save('xtrain2.npy', X_train2)\n",
    "\n",
    "if pathlib.Path('xtest2.npy').exists():\n",
    "    X_test2 = np.load('xtest2.npy')\n",
    "else:\n",
    "    binarize(X_test2)\n",
    "    np.save('xtest2.npy', X_test2)"
   ]
  },
  {
   "cell_type": "markdown",
   "id": "877551f5",
   "metadata": {},
   "source": [
    "### Displaying 5 images from our target classes, trouser and pullover (class 1 and class 2)"
   ]
  },
  {
   "cell_type": "code",
   "execution_count": 176,
   "id": "115cde90",
   "metadata": {},
   "outputs": [
    {
     "data": {
      "image/png": "[encoded data removed]",
      "text/plain": [
       "<Figure size 720x3600 with 5 Axes>"
      ]
     },
     "metadata": {
      "needs_background": "light"
     },
     "output_type": "display_data"
    },
    {
     "data": {
      "image/png": "[encoded data removed]",
      "text/plain": [
       "<Figure size 720x3600 with 5 Axes>"
      ]
     },
     "metadata": {
      "needs_background": "light"
     },
     "output_type": "display_data"
    }
   ],
   "source": [
    "for i in (1, 2):\n",
    "    plt.figure(figsize=(10, 50))\n",
    "    count = 0\n",
    "    for j in range(5):\n",
    "        plt.subplot(1, 5, j+1)\n",
    "        plt.imshow(X_train2[ci[i-1][j]].reshape(28, 28))\n",
    "    plt.show()"
   ]
  },
  {
   "cell_type": "markdown",
   "id": "2472ce13",
   "metadata": {},
   "source": [
    "## Part 1"
   ]
  },
  {
   "cell_type": "code",
   "execution_count": 195,
   "id": "c6444069",
   "metadata": {},
   "outputs": [],
   "source": [
    "class NaiveBayes:\n",
    "    def __init__(self):\n",
    "        self.classes = []\n",
    "        self.likelihoods = {}\n",
    "        self.likelihoods[1] = np.zeros((784, 2))\n",
    "        self.likelihoods[2] = np.zeros((784, 2))\n",
    "        # calculating class priors is explained above\n",
    "        self.class_prior = {1: 0.5, 2: 0.5}\n",
    "\n",
    "    \n",
    "    def fit(self, x, y):\n",
    "        m, n = x.shape\n",
    "        self.classes = np.unique(y)\n",
    "        # calculating likelihoods for each class\n",
    "        for i in range(m):\n",
    "            row = x[i]\n",
    "            cl = y[i]\n",
    "            for j in range(n):\n",
    "                if( row[j] == 0 ):\n",
    "                    self.likelihoods[cl][j, 0] += 1\n",
    "                else:\n",
    "                    self.likelihoods[cl][j, 1] += 1\n",
    "        \n",
    "        for cl in self.classes:\n",
    "            # dividing by 6000 as both classes have 6000 samples\n",
    "            self.likelihoods[cl] /= 6000\n",
    "    \n",
    "    def predict(self, x):\n",
    "        m, n = x.shape\n",
    "        y_pred = []\n",
    "        self.class_probs = {}\n",
    "        self.class_probs[1] = np.zeros(m)\n",
    "        self.class_probs[2] = np.zeros(m)\n",
    "        for i in range(m):\n",
    "            row = x[i]\n",
    "            class_pred = {1: 1, 2: 1}\n",
    "            for cl in self.classes:\n",
    "                lkl = self.likelihoods[cl]\n",
    "                cpr = self.class_prior[cl]\n",
    "                for j in range(n):\n",
    "                    class_pred[cl] *= lkl[j, row[j]]\n",
    "                class_pred[cl] *= cpr\n",
    "                self.class_probs[cl][i] = class_pred[cl]\n",
    "            \n",
    "            # selecting maximum probability class\n",
    "            y_pred.append(max(class_pred, key=class_pred.get))\n",
    "\n",
    "        return y_pred"
   ]
  },
  {
   "cell_type": "markdown",
   "id": "5ad33ad7",
   "metadata": {},
   "source": [
    "## Training the model and predicting"
   ]
  },
  {
   "cell_type": "code",
   "execution_count": 196,
   "id": "cf710936",
   "metadata": {},
   "outputs": [],
   "source": [
    "model = NaiveBayes()\n",
    "model.fit(X_train2, Y_train2)"
   ]
  },
  {
   "cell_type": "code",
   "execution_count": 197,
   "id": "518f1369",
   "metadata": {},
   "outputs": [],
   "source": [
    "y_pred = model.predict(X_test2)"
   ]
  },
  {
   "cell_type": "markdown",
   "id": "5f163033",
   "metadata": {},
   "source": [
    "## Part 3 (Part 2 is done later)"
   ]
  },
  {
   "cell_type": "markdown",
   "id": "6acf536c",
   "metadata": {},
   "source": [
    "### A: Confusion matrix"
   ]
  },
  {
   "cell_type": "code",
   "execution_count": 233,
   "id": "e3fd7368",
   "metadata": {},
   "outputs": [],
   "source": [
    "def confusionMatrix(y, yh):\n",
    "    # n is number of classes\n",
    "    y = np.array(y)\n",
    "    yh = np.array(yh)\n",
    "    mat = np.zeros((2, 2))\n",
    "    for i in range(len(y)):\n",
    "        mat[y[i]-1][yh[i]-1] += 1\n",
    "    return mat"
   ]
  },
  {
   "cell_type": "code",
   "execution_count": 234,
   "id": "00d2062b",
   "metadata": {},
   "outputs": [
    {
     "name": "stdout",
     "output_type": "stream",
     "text": [
      "Confusion matrix:\n",
      " [[965.  35.]\n",
      " [100. 900.]]\n"
     ]
    }
   ],
   "source": [
    "cmat = confusionMatrix(Y_test2, y_pred)\n",
    "print('Confusion matrix:\\n', cmat)"
   ]
  },
  {
   "cell_type": "markdown",
   "id": "bc6e8b85",
   "metadata": {},
   "source": [
    "### B: ROC curve"
   ]
  },
  {
   "cell_type": "code",
   "execution_count": 208,
   "id": "1ed91841",
   "metadata": {},
   "outputs": [
    {
     "data": {
      "text/plain": [
       "<matplotlib.legend.Legend at 0x186c5f47970>"
      ]
     },
     "execution_count": 208,
     "metadata": {},
     "output_type": "execute_result"
    },
    {
     "data": {
      "image/png": "[encoded data removed]",
      "text/plain": [
       "<Figure size 432x288 with 1 Axes>"
      ]
     },
     "metadata": {
      "needs_background": "light"
     },
     "output_type": "display_data"
    }
   ],
   "source": [
    "from sklearn.metrics import roc_curve\n",
    "from sklearn.metrics import auc\n",
    "\n",
    "t_probs = model.class_probs[1]\n",
    "p_probs = model.class_probs[2]\n",
    "#preds = probs[:,1]\n",
    "fpr1, tpr1, threshold1 = roc_curve(Y_test2-1, t_probs)\n",
    "fpr2, tpr2, threshold2 = roc_curve(Y_test2-1, p_probs)\n",
    "\n",
    "plt.plot(fpr1, tpr1, label='Trousers')\n",
    "plt.plot(fpr2, tpr2, label='Pullovers')\n",
    "plt.plot([0, 1], [0, 1], 'k--')\n",
    "plt.xlim([0.0, 1.0])\n",
    "plt.ylim([0.0, 1.0])\n",
    "plt.xlabel('False Positive Rate')\n",
    "plt.ylabel('True Positive Rate')\n",
    "plt.title('ROC curve')\n",
    "plt.legend(loc=\"lower right\")"
   ]
  },
  {
   "cell_type": "markdown",
   "id": "7493dd58",
   "metadata": {},
   "source": [
    "### C: Accuracy, precision, recall"
   ]
  },
  {
   "cell_type": "code",
   "execution_count": 235,
   "id": "db10413c",
   "metadata": {},
   "outputs": [
    {
     "name": "stdout",
     "output_type": "stream",
     "text": [
      "Accuracy: 0.9325\n",
      "Precision: 0.9625668449197861\n",
      "Recall: 0.9\n"
     ]
    }
   ],
   "source": [
    "accuracy = (cmat[0][0] + cmat[1][1]) / np.sum(cmat)\n",
    "precision = (cmat[1][1]) / (cmat[1][1] + cmat[0][1])\n",
    "recall = (cmat[1][1]) / (cmat[1][1] + cmat[1][0])\n",
    "\n",
    "print('Accuracy:', accuracy)\n",
    "print('Precision:', precision)\n",
    "print('Recall:', recall)"
   ]
  },
  {
   "cell_type": "markdown",
   "id": "67e1a89a",
   "metadata": {},
   "source": [
    "## Part 2: K-fold cross valdiation"
   ]
  },
  {
   "cell_type": "code",
   "execution_count": 219,
   "id": "a9ed332d",
   "metadata": {},
   "outputs": [],
   "source": [
    "def kfoldsplit(x, y, idx, size):\n",
    "    start = idx * size\n",
    "    xts = x[start:start+size]\n",
    "    yts = y[start:start+size]\n",
    "    xtr = np.concatenate((x[:start], x[start+size:]))\n",
    "    ytr = np.concatenate((y[:start], y[start+size:]))\n",
    "    return xtr, ytr, xts, yts"
   ]
  },
  {
   "cell_type": "code",
   "execution_count": 236,
   "id": "bac2c134",
   "metadata": {},
   "outputs": [],
   "source": [
    "def kfold(x, y, folds=3):\n",
    "    fsize = len(x) // folds\n",
    "    mats = []\n",
    "    accs = []\n",
    "    for i in range(folds):\n",
    "        kxtrain, kytrain, kxtest, kytest = kfoldsplit(x, y, i, fsize)\n",
    "        kmodel = NaiveBayes()\n",
    "        print(kxtrain.shape, kytrain.shape, kxtest.shape, kytest.shape)\n",
    "        kmodel.fit(kxtrain, kytrain)\n",
    "        preds = kmodel.predict(kxtest)\n",
    "        kcmat = confusionMatrix(kytest, preds)\n",
    "        mats.append(kcmat)\n",
    "        accs.append((kcmat[0][0] + kcmat[1][1]) / np.sum(kcmat))\n",
    "    \n",
    "    return mats, accs"
   ]
  },
  {
   "cell_type": "code",
   "execution_count": 237,
   "id": "35f45a37",
   "metadata": {},
   "outputs": [
    {
     "name": "stdout",
     "output_type": "stream",
     "text": [
      "(9334, 784) (9334,) (4666, 784) (4666,)\n",
      "(9334, 784) (9334,) (4666, 784) (4666,)\n",
      "(9334, 784) (9334,) (4666, 784) (4666,)\n"
     ]
    }
   ],
   "source": [
    "X_all = np.concatenate((X_train2, X_test2))\n",
    "Y_all = np.concatenate((Y_train2, Y_test2))\n",
    "\n",
    "kmats, kaccs = kfold(X_all, Y_all, 3)"
   ]
  }
 ],
 "metadata": {
  "kernelspec": {
   "display_name": "Python 3 (ipykernel)",
   "language": "python",
   "name": "python3"
  },
  "language_info": {
   "codemirror_mode": {
    "name": "ipython",
    "version": 3
   },
   "file_extension": ".py",
   "mimetype": "text/x-python",
   "name": "python",
   "nbconvert_exporter": "python",
   "pygments_lexer": "ipython3",
   "version": "3.9.6"
  }
 },
 "nbformat": 4,
 "nbformat_minor": 5
}
