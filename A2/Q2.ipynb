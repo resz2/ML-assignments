{
 "cells": [
  {
   "cell_type": "code",
   "execution_count": 1,
   "id": "7b32e1ea",
   "metadata": {},
   "outputs": [],
   "source": [
    "import numpy as np\n",
    "import pandas as pd\n",
    "import matplotlib.pyplot as plt\n",
    "import seaborn as sns\n",
    "from mlxtend.data import loadlocal_mnist"
   ]
  },
  {
   "cell_type": "markdown",
   "id": "db91fcbc",
   "metadata": {},
   "source": [
    "# Building MLP"
   ]
  },
  {
   "cell_type": "code",
   "execution_count": 224,
   "id": "4a50dea3",
   "metadata": {},
   "outputs": [],
   "source": [
    "def relu(x):\n",
    "    return np.maximum(0, x)\n",
    "\n",
    "def reluder(x):\n",
    "    return np.where(x<0, 0, 1)\n",
    "\n",
    "def leaky(x):\n",
    "    return np.maximum(0.01*x, x)\n",
    "\n",
    "def leakyder(x):\n",
    "    return np.where(x<0, 0.01, 1)\n",
    "\n",
    "def sigmoid(x):\n",
    "    return 1 / (1 +  np.exp(-x))\n",
    "\n",
    "def sigder(x):\n",
    "    return sigmoid(x) * (1 - sigmoid(x))\n",
    "\n",
    "def linear(x):\n",
    "    return x\n",
    "\n",
    "def linder(x):\n",
    "    return np.ones(len(x))\n",
    "\n",
    "def tanh(x):\n",
    "    return np.tanh(x)\n",
    "\n",
    "def tander(x):\n",
    "    return 1 - tanh(x)*tanh(x)\n",
    "\n",
    "def softmax(x):\n",
    "    z = x - np.max(x, axis=-1, keepdims=True)\n",
    "    numerator = np.exp(z)\n",
    "    denominator = np.sum(numerator, axis=-1, keepdims=True)\n",
    "    sfmx = numerator / denominator\n",
    "    return sfmx\n",
    "\n",
    "def softder(x):\n",
    "    n = len(x)\n",
    "    jacobian = np.zeros((n, n))\n",
    "    soft = softmax(x)\n",
    "    for i in range(n):\n",
    "        for j in range(n):\n",
    "            if i == j:\n",
    "                jacobian[i][j] = soft[i] * (1-soft[i])\n",
    "            else: \n",
    "                jacobian[i][j] = -soft[i]*soft[j]\n",
    "    return jacobian"
   ]
  },
  {
   "cell_type": "code",
   "execution_count": 270,
   "id": "0715400e",
   "metadata": {},
   "outputs": [],
   "source": [
    "class MyNeuralNetwork:\n",
    "    def __init__(self):\n",
    "        # defining default values for parameters\n",
    "        pass\n",
    "\n",
    "    def initialize(self, layers=4, lsize=[784, 256, 64, 10], acti='sigmoid', lr=0.1, weights='zero', bsize=32, epochs=5):\n",
    "        self.n_layers = layers\n",
    "        self.layer_sizes = lsize\n",
    "        self.activation = acti\n",
    "        self.learning_rate = lr\n",
    "        self.weight_init = weights\n",
    "        self.make_weights()\n",
    "        self.batch_size = bsize\n",
    "        self.num_epochs = epochs\n",
    "\n",
    "    def loss(self, preds, labels):\n",
    "        '''\n",
    "        preds: (N, 10) ndrray\n",
    "        labels: N labels\n",
    "        '''\n",
    "        N = preds.shape[0]\n",
    "        ce = 0\n",
    "        for i in range(N):\n",
    "            ce += -np.log(preds[labels[i]] + 1e-9)\n",
    "        ce /= N\n",
    "        return ce\n",
    "    \n",
    "    def activator(self, x, acti):\n",
    "        if(acti == 'relu'):\n",
    "            return relu(x)\n",
    "        if(acti == 'leaky'):\n",
    "            return leaky(x)\n",
    "        if(acti == 'sigmoid'):\n",
    "            return sigmoid(x)\n",
    "        if(acti == 'linear'):\n",
    "            return linear(x)\n",
    "        if(acti == 'tanh'):\n",
    "            return tanh(x)\n",
    "    \n",
    "    def derivator(self, x, acti):\n",
    "        if(acti == 'relu'):\n",
    "            return reluder(x)\n",
    "        if(acti == 'leaky'):\n",
    "            return leakyder(x)\n",
    "        if(acti == 'sigmoid'):\n",
    "            return sigder(x)\n",
    "        if(acti == 'linear'):\n",
    "            return linder(x)\n",
    "        if(acti == 'tanh'):\n",
    "            return tander(x)\n",
    "    \n",
    "    def make_weights(self):\n",
    "        if(self.weight_init == 'zero'):\n",
    "            self.wzero()\n",
    "        elif(self.weight_init == 'random'):\n",
    "            self.wrandom()\n",
    "        else:\n",
    "            self.wnormal()\n",
    "    \n",
    "    def wzero(self):\n",
    "        self.weights = []\n",
    "        self.biases = []\n",
    "        for i in range(1, self.n_layers):\n",
    "            self.weights.append(np.zeros((self.layer_sizes[i], self.layer_sizes[i-1])))\n",
    "            self.biases.append(np.zeros(self.layer_sizes[i]))\n",
    "    \n",
    "    def wrandom(self):\n",
    "        self.weights = []\n",
    "        self.biases = []\n",
    "        for i in range(1, self.n_layers):\n",
    "            self.weights.append(np.random.randn((self.layer_sizes[i], self.layer_sizes[i-1])) * 0.01)\n",
    "            self.biases.append(np.zeros(self.layer_sizes[i]))\n",
    "    \n",
    "    def wnormal(self):\n",
    "        self.weights = []\n",
    "        self.biases = []\n",
    "        for i in range(1, self.n_layers):\n",
    "            self.weights.append(np.random.normal((self.layer_sizes[i], self.layer_sizes[i-1])) * 0.01)\n",
    "            self.biases.append(np.zeros(self.layer_sizes[i]))\n",
    "    \n",
    "    def onehot(self, y):\n",
    "        y2 = np.zeros((len(y), 10))\n",
    "        for i, label in enumerate(y):\n",
    "            y2[i][label] = 1\n",
    "        return y2\n",
    "    \n",
    "    def forward_pass(self, x):\n",
    "        # takes one sample as input x\n",
    "        # returns probaabilities for that sample\n",
    "        al = []\n",
    "        zl = []\n",
    "        for i in range(self.n_layers-1):\n",
    "            z = np.dot(self.weights[i], x) + self.biases[i]\n",
    "            a = self.activator(z, self.activation)\n",
    "            al.append(a)\n",
    "            zl.append(z)\n",
    "            x = a\n",
    "        probs = softmax(x)\n",
    "        return [al, zl, probs]\n",
    "    \n",
    "    def backprop(self, x, y, params):\n",
    "        al = params[0]\n",
    "        zl = params[1]\n",
    "        probs = params[2]\n",
    "        wgrads = []\n",
    "        bgrads = []\n",
    "        # one hot encoding for y\n",
    "        y2 = onehot(y)\n",
    "        for i in range(self.n_layers-2, -1, -1):\n",
    "            if(i == (self.n_layers-2)):\n",
    "                dz = (probs - y2) / x.shape[0]\n",
    "                dw = np.dot(al[i].T, dz)\n",
    "            else:\n",
    "                dz = np.dot(self.weights[i+1].T, probs-y2) / x.shape[0]\n",
    "                if(i==0):\n",
    "                    dw = np.dot(x, dz.T)\n",
    "                else:\n",
    "                    dw = np.dot(zl[i-1], dz.T)\n",
    "            db = np.sum(dz) / x.shape[0]\n",
    "            wgrads.append(dw)\n",
    "            bgrads.append(db)\n",
    "        wgrads = wgrads[::-1]\n",
    "        bgrads = bgrads[::-1]\n",
    "        return [wgrads, bgrads]\n",
    "    \n",
    "    def update_weights(self, grads):\n",
    "        wgrads = grads[0]\n",
    "        bgrads = grads[1]\n",
    "        for i in range(self.n_layers-1):\n",
    "            self.weights[i] = self.weights[i] - self.learning_rate * wgrads[i]\n",
    "            self.biases[i] = self.biases[i] - self.learning_rate * bgrads[i]\n",
    "    \n",
    "    def fit(self, x, y, xv, yv):\n",
    "        n = x.shape[0]\n",
    "        m = x.shape[1]\n",
    "        batches = n // self.batch_size\n",
    "        \n",
    "        self.train_loss = []\n",
    "        self.val_loss = []\n",
    "        \n",
    "        for epoch in range(self.num_epochs):\n",
    "            for i in range(0, n, self.batch_size):\n",
    "                x0 = x[i:i+self.batch_size]\n",
    "                y0 = y[i:i+self.batch_size]\n",
    "                params = self.forward_pass(x0)\n",
    "                grads = self.backprop(x0, y0, params)\n",
    "                self.update_weights(grads)\n",
    "            \n",
    "            probs = self.forward_pass(x)[2]\n",
    "            self.train_loss.append(self.loss(probs.T))\n",
    "            probs = self.forward_pass(xv)[2]\n",
    "            self.val_loss.append(self.loss(probs.T))\n",
    "    \n",
    "    def predict_proba(self, x):\n",
    "        params = self.forward_pass(x)\n",
    "        return params[2].T\n",
    "    \n",
    "    def predict(self, x):\n",
    "        params = self.forward_pass(x)\n",
    "        probs = params[2].T\n",
    "        pred = np.zeros(len(x))\n",
    "        for i in range(len(x)):\n",
    "            pred[i] = probs[i].argmax(axis=0)\n",
    "        return pred\n",
    "    \n",
    "    def score(self, x, y):\n",
    "        pred = self.predict(x)\n",
    "        return np.sum(pred==y)"
   ]
  },
  {
   "cell_type": "code",
   "execution_count": null,
   "id": "8cefcc7f",
   "metadata": {},
   "outputs": [],
   "source": []
  },
  {
   "cell_type": "code",
   "execution_count": null,
   "id": "548567e5",
   "metadata": {},
   "outputs": [],
   "source": []
  },
  {
   "cell_type": "markdown",
   "id": "7076b041",
   "metadata": {},
   "source": [
    "# Testing the model"
   ]
  },
  {
   "cell_type": "markdown",
   "id": "91d2e227",
   "metadata": {},
   "source": [
    "#### Only the training images are utilised and split into 7:2:1 train:test:val split"
   ]
  },
  {
   "cell_type": "code",
   "execution_count": 2,
   "id": "bd9ec4f3",
   "metadata": {},
   "outputs": [],
   "source": [
    "X, Y = loadlocal_mnist(images_path='data/train-images.idx3-ubyte', labels_path='data/train-labels.idx1-ubyte')"
   ]
  },
  {
   "cell_type": "code",
   "execution_count": 3,
   "id": "11ca5854",
   "metadata": {},
   "outputs": [
    {
     "name": "stdout",
     "output_type": "stream",
     "text": [
      "Images: (60000, 784)\n",
      "Labels: (60000,)\n"
     ]
    }
   ],
   "source": [
    "print('Images: ' + str(X.shape))\n",
    "print('Labels: ' + str(Y.shape))"
   ]
  },
  {
   "cell_type": "code",
   "execution_count": 4,
   "id": "57cde4df",
   "metadata": {},
   "outputs": [],
   "source": [
    "x_train = X[:42000]\n",
    "y_train = Y[:42000]\n",
    "x_test = X[42000:54000]\n",
    "y_test = Y[42000:54000]\n",
    "x_val = X[54000:]\n",
    "y_val = Y[54000:]"
   ]
  },
  {
   "cell_type": "code",
   "execution_count": 5,
   "id": "ed096266",
   "metadata": {},
   "outputs": [
    {
     "name": "stdout",
     "output_type": "stream",
     "text": [
      "x_train: (42000, 784)\n",
      "y_train: (42000,)\n",
      "x_test:  (12000, 784)\n",
      "y_test:  (12000,)\n",
      "x_val:  (6000, 784)\n",
      "y_val:  (6000,)\n"
     ]
    }
   ],
   "source": [
    "print('x_train: ' + str(x_train.shape))\n",
    "print('y_train: ' + str(y_train.shape))\n",
    "print('x_test:  '  + str(x_test.shape))\n",
    "print('y_test:  '  + str(y_test.shape))\n",
    "print('x_val:  '  + str(x_val.shape))\n",
    "print('y_val:  '  + str(y_val.shape))"
   ]
  },
  {
   "cell_type": "code",
   "execution_count": 6,
   "id": "6edc930b",
   "metadata": {},
   "outputs": [],
   "source": [
    "#separating training data into classes and storing indexes\n",
    "ci = []\n",
    "for i in range(10):\n",
    "    ci.append(np.argwhere(y_train == i))"
   ]
  },
  {
   "cell_type": "markdown",
   "id": "cae743ab",
   "metadata": {},
   "source": [
    "#### Printing 5 sample images for each class"
   ]
  },
  {
   "cell_type": "code",
   "execution_count": 7,
   "id": "8c9e25eb",
   "metadata": {},
   "outputs": [
    {
     "data": {
      "image/png": "[encoded data removed]",
      "text/plain": [
       "<Figure size 720x3600 with 5 Axes>"
      ]
     },
     "metadata": {
      "needs_background": "light"
     },
     "output_type": "display_data"
    },
    {
     "data": {
      "image/png": "[encoded data removed]",
      "text/plain": [
       "<Figure size 720x3600 with 5 Axes>"
      ]
     },
     "metadata": {
      "needs_background": "light"
     },
     "output_type": "display_data"
    },
    {
     "data": {
      "image/png": "[encoded data removed]",
      "text/plain": [
       "<Figure size 720x3600 with 5 Axes>"
      ]
     },
     "metadata": {
      "needs_background": "light"
     },
     "output_type": "display_data"
    },
    {
     "data": {
      "image/png": "[encoded data removed]",
      "text/plain": [
       "<Figure size 720x3600 with 5 Axes>"
      ]
     },
     "metadata": {
      "needs_background": "light"
     },
     "output_type": "display_data"
    },
    {
     "data": {
      "image/png": "[encoded data removed]",
      "text/plain": [
       "<Figure size 720x3600 with 5 Axes>"
      ]
     },
     "metadata": {
      "needs_background": "light"
     },
     "output_type": "display_data"
    },
    {
     "data": {
      "image/png": "[encoded data removed]",
      "text/plain": [
       "<Figure size 720x3600 with 5 Axes>"
      ]
     },
     "metadata": {
      "needs_background": "light"
     },
     "output_type": "display_data"
    },
    {
     "data": {
      "image/png": "[encoded data removed]",
      "text/plain": [
       "<Figure size 720x3600 with 5 Axes>"
      ]
     },
     "metadata": {
      "needs_background": "light"
     },
     "output_type": "display_data"
    },
    {
     "data": {
      "image/png": "[encoded data removed]",
      "text/plain": [
       "<Figure size 720x3600 with 5 Axes>"
      ]
     },
     "metadata": {
      "needs_background": "light"
     },
     "output_type": "display_data"
    },
    {
     "data": {
      "image/png": "[encoded data removed]",
      "text/plain": [
       "<Figure size 720x3600 with 5 Axes>"
      ]
     },
     "metadata": {
      "needs_background": "light"
     },
     "output_type": "display_data"
    },
    {
     "data": {
      "image/png": "[encoded data removed]",
      "text/plain": [
       "<Figure size 720x3600 with 5 Axes>"
      ]
     },
     "metadata": {
      "needs_background": "light"
     },
     "output_type": "display_data"
    }
   ],
   "source": [
    "for i in range(10):\n",
    "    plt.figure(figsize=(10, 50))\n",
    "    count = 0\n",
    "    for j in range(5):\n",
    "        plt.subplot(1, 5, j+1)\n",
    "        plt.imshow(x_train[ci[i][j]].reshape(28, 28), cmap=plt.get_cmap('gray'))\n",
    "    plt.show()"
   ]
  },
  {
   "cell_type": "markdown",
   "id": "7ef7bf9e",
   "metadata": {},
   "source": [
    "## Testing the model"
   ]
  },
  {
   "cell_type": "code",
   "execution_count": 260,
   "id": "0b1f82d2",
   "metadata": {},
   "outputs": [],
   "source": [
    "funcs = ['relu', 'leaky', 'sigmoid', 'linear', 'tanh']"
   ]
  },
  {
   "cell_type": "code",
   "execution_count": 271,
   "id": "b93844df",
   "metadata": {},
   "outputs": [
    {
     "ename": "ValueError",
     "evalue": "shapes (2,) and (1000,784) not aligned: 2 (dim 0) != 1000 (dim 0)",
     "output_type": "error",
     "traceback": [
      "\u001b[1;31m---------------------------------------------------------------------------\u001b[0m",
      "\u001b[1;31mValueError\u001b[0m                                Traceback (most recent call last)",
      "\u001b[1;32m~\\AppData\\Local\\Temp/ipykernel_9496/4048748562.py\u001b[0m in \u001b[0;36m<module>\u001b[1;34m\u001b[0m\n\u001b[0;32m     10\u001b[0m     \u001b[0mmodel\u001b[0m \u001b[1;33m=\u001b[0m \u001b[0mMyNeuralNetwork\u001b[0m\u001b[1;33m(\u001b[0m\u001b[1;33m)\u001b[0m\u001b[1;33m\u001b[0m\u001b[1;33m\u001b[0m\u001b[0m\n\u001b[0;32m     11\u001b[0m     \u001b[0mmodel\u001b[0m\u001b[1;33m.\u001b[0m\u001b[0minitialize\u001b[0m\u001b[1;33m(\u001b[0m\u001b[0mlayers\u001b[0m\u001b[1;33m=\u001b[0m\u001b[1;36m6\u001b[0m\u001b[1;33m,\u001b[0m \u001b[0mlsize\u001b[0m\u001b[1;33m=\u001b[0m\u001b[1;33m[\u001b[0m\u001b[1;36m784\u001b[0m\u001b[1;33m,\u001b[0m \u001b[1;36m256\u001b[0m\u001b[1;33m,\u001b[0m \u001b[1;36m128\u001b[0m\u001b[1;33m,\u001b[0m \u001b[1;36m64\u001b[0m\u001b[1;33m,\u001b[0m \u001b[1;36m32\u001b[0m\u001b[1;33m,\u001b[0m \u001b[1;36m10\u001b[0m\u001b[1;33m]\u001b[0m\u001b[1;33m,\u001b[0m \u001b[0macti\u001b[0m\u001b[1;33m=\u001b[0m\u001b[1;34m'func'\u001b[0m\u001b[1;33m,\u001b[0m \u001b[0mlr\u001b[0m\u001b[1;33m=\u001b[0m\u001b[1;36m0.08\u001b[0m\u001b[1;33m,\u001b[0m \u001b[0mweights\u001b[0m\u001b[1;33m=\u001b[0m\u001b[1;34m'normal'\u001b[0m\u001b[1;33m,\u001b[0m \u001b[0mbsize\u001b[0m\u001b[1;33m=\u001b[0m\u001b[1;36m1000\u001b[0m\u001b[1;33m,\u001b[0m \u001b[0mepochs\u001b[0m\u001b[1;33m=\u001b[0m\u001b[1;36m150\u001b[0m\u001b[1;33m)\u001b[0m\u001b[1;33m\u001b[0m\u001b[1;33m\u001b[0m\u001b[0m\n\u001b[1;32m---> 12\u001b[1;33m     \u001b[0mmodel\u001b[0m\u001b[1;33m.\u001b[0m\u001b[0mfit\u001b[0m\u001b[1;33m(\u001b[0m\u001b[0mx_train\u001b[0m\u001b[1;33m,\u001b[0m \u001b[0my_train\u001b[0m\u001b[1;33m,\u001b[0m \u001b[0mx_val\u001b[0m\u001b[1;33m,\u001b[0m \u001b[0my_val\u001b[0m\u001b[1;33m)\u001b[0m\u001b[1;33m\u001b[0m\u001b[1;33m\u001b[0m\u001b[0m\n\u001b[0m\u001b[0;32m     13\u001b[0m     \u001b[0mmodel_weights\u001b[0m\u001b[1;33m[\u001b[0m\u001b[0mfunc\u001b[0m\u001b[1;33m]\u001b[0m\u001b[1;33m[\u001b[0m\u001b[1;34m'weights'\u001b[0m\u001b[1;33m]\u001b[0m \u001b[1;33m=\u001b[0m \u001b[0mmodel\u001b[0m\u001b[1;33m.\u001b[0m\u001b[0mweights\u001b[0m\u001b[1;33m\u001b[0m\u001b[1;33m\u001b[0m\u001b[0m\n\u001b[0;32m     14\u001b[0m     \u001b[0mmodel_weights\u001b[0m\u001b[1;33m[\u001b[0m\u001b[0mfunc\u001b[0m\u001b[1;33m]\u001b[0m\u001b[1;33m[\u001b[0m\u001b[1;34m'biases'\u001b[0m\u001b[1;33m]\u001b[0m \u001b[1;33m=\u001b[0m \u001b[0mmodel\u001b[0m\u001b[1;33m.\u001b[0m\u001b[0mbiases\u001b[0m\u001b[1;33m\u001b[0m\u001b[1;33m\u001b[0m\u001b[0m\n",
      "\u001b[1;32m~\\AppData\\Local\\Temp/ipykernel_9496/2475615416.py\u001b[0m in \u001b[0;36mfit\u001b[1;34m(self, x, y, xv, yv)\u001b[0m\n\u001b[0;32m    143\u001b[0m                 \u001b[0mx0\u001b[0m \u001b[1;33m=\u001b[0m \u001b[0mx\u001b[0m\u001b[1;33m[\u001b[0m\u001b[0mi\u001b[0m\u001b[1;33m:\u001b[0m\u001b[0mi\u001b[0m\u001b[1;33m+\u001b[0m\u001b[0mself\u001b[0m\u001b[1;33m.\u001b[0m\u001b[0mbatch_size\u001b[0m\u001b[1;33m]\u001b[0m\u001b[1;33m\u001b[0m\u001b[1;33m\u001b[0m\u001b[0m\n\u001b[0;32m    144\u001b[0m                 \u001b[0my0\u001b[0m \u001b[1;33m=\u001b[0m \u001b[0my\u001b[0m\u001b[1;33m[\u001b[0m\u001b[0mi\u001b[0m\u001b[1;33m:\u001b[0m\u001b[0mi\u001b[0m\u001b[1;33m+\u001b[0m\u001b[0mself\u001b[0m\u001b[1;33m.\u001b[0m\u001b[0mbatch_size\u001b[0m\u001b[1;33m]\u001b[0m\u001b[1;33m\u001b[0m\u001b[1;33m\u001b[0m\u001b[0m\n\u001b[1;32m--> 145\u001b[1;33m                 \u001b[0mparams\u001b[0m \u001b[1;33m=\u001b[0m \u001b[0mself\u001b[0m\u001b[1;33m.\u001b[0m\u001b[0mforward_pass\u001b[0m\u001b[1;33m(\u001b[0m\u001b[0mx0\u001b[0m\u001b[1;33m)\u001b[0m\u001b[1;33m\u001b[0m\u001b[1;33m\u001b[0m\u001b[0m\n\u001b[0m\u001b[0;32m    146\u001b[0m                 \u001b[0mgrads\u001b[0m \u001b[1;33m=\u001b[0m \u001b[0mself\u001b[0m\u001b[1;33m.\u001b[0m\u001b[0mbackprop\u001b[0m\u001b[1;33m(\u001b[0m\u001b[0mx0\u001b[0m\u001b[1;33m,\u001b[0m \u001b[0my0\u001b[0m\u001b[1;33m,\u001b[0m \u001b[0mparams\u001b[0m\u001b[1;33m)\u001b[0m\u001b[1;33m\u001b[0m\u001b[1;33m\u001b[0m\u001b[0m\n\u001b[0;32m    147\u001b[0m                 \u001b[0mself\u001b[0m\u001b[1;33m.\u001b[0m\u001b[0mupdate_weights\u001b[0m\u001b[1;33m(\u001b[0m\u001b[0mgrads\u001b[0m\u001b[1;33m)\u001b[0m\u001b[1;33m\u001b[0m\u001b[1;33m\u001b[0m\u001b[0m\n",
      "\u001b[1;32m~\\AppData\\Local\\Temp/ipykernel_9496/2475615416.py\u001b[0m in \u001b[0;36mforward_pass\u001b[1;34m(self, x)\u001b[0m\n\u001b[0;32m     91\u001b[0m         \u001b[0mzl\u001b[0m \u001b[1;33m=\u001b[0m \u001b[1;33m[\u001b[0m\u001b[1;33m]\u001b[0m\u001b[1;33m\u001b[0m\u001b[1;33m\u001b[0m\u001b[0m\n\u001b[0;32m     92\u001b[0m         \u001b[1;32mfor\u001b[0m \u001b[0mi\u001b[0m \u001b[1;32min\u001b[0m \u001b[0mrange\u001b[0m\u001b[1;33m(\u001b[0m\u001b[0mself\u001b[0m\u001b[1;33m.\u001b[0m\u001b[0mn_layers\u001b[0m\u001b[1;33m-\u001b[0m\u001b[1;36m1\u001b[0m\u001b[1;33m)\u001b[0m\u001b[1;33m:\u001b[0m\u001b[1;33m\u001b[0m\u001b[1;33m\u001b[0m\u001b[0m\n\u001b[1;32m---> 93\u001b[1;33m             \u001b[0mz\u001b[0m \u001b[1;33m=\u001b[0m \u001b[0mnp\u001b[0m\u001b[1;33m.\u001b[0m\u001b[0mdot\u001b[0m\u001b[1;33m(\u001b[0m\u001b[0mself\u001b[0m\u001b[1;33m.\u001b[0m\u001b[0mweights\u001b[0m\u001b[1;33m[\u001b[0m\u001b[0mi\u001b[0m\u001b[1;33m]\u001b[0m\u001b[1;33m,\u001b[0m \u001b[0mx\u001b[0m\u001b[1;33m)\u001b[0m \u001b[1;33m+\u001b[0m \u001b[0mself\u001b[0m\u001b[1;33m.\u001b[0m\u001b[0mbiases\u001b[0m\u001b[1;33m[\u001b[0m\u001b[0mi\u001b[0m\u001b[1;33m]\u001b[0m\u001b[1;33m\u001b[0m\u001b[1;33m\u001b[0m\u001b[0m\n\u001b[0m\u001b[0;32m     94\u001b[0m             \u001b[0ma\u001b[0m \u001b[1;33m=\u001b[0m \u001b[0mself\u001b[0m\u001b[1;33m.\u001b[0m\u001b[0mactivator\u001b[0m\u001b[1;33m(\u001b[0m\u001b[0mz\u001b[0m\u001b[1;33m,\u001b[0m \u001b[0mself\u001b[0m\u001b[1;33m.\u001b[0m\u001b[0mactivation\u001b[0m\u001b[1;33m)\u001b[0m\u001b[1;33m\u001b[0m\u001b[1;33m\u001b[0m\u001b[0m\n\u001b[0;32m     95\u001b[0m             \u001b[0mal\u001b[0m\u001b[1;33m.\u001b[0m\u001b[0mappend\u001b[0m\u001b[1;33m(\u001b[0m\u001b[0ma\u001b[0m\u001b[1;33m)\u001b[0m\u001b[1;33m\u001b[0m\u001b[1;33m\u001b[0m\u001b[0m\n",
      "\u001b[1;32m<__array_function__ internals>\u001b[0m in \u001b[0;36mdot\u001b[1;34m(*args, **kwargs)\u001b[0m\n",
      "\u001b[1;31mValueError\u001b[0m: shapes (2,) and (1000,784) not aligned: 2 (dim 0) != 1000 (dim 0)"
     ]
    }
   ],
   "source": [
    "model_weights = {'relu': {'weights': [], 'biases': []}, 'leaky': {'weights': [], 'biases': []},\n",
    "                'sigmoid': {'weights': [], 'biases': []}, 'linear': {'weights': [], 'biases': []}, \n",
    "                'tanh': {'weights': [], 'biases': []}}\n",
    "\n",
    "model_loss = {'relu': {'train': [], 'valid': []}, 'leaky': {'train': [], 'valid': []},\n",
    "                'sigmoid': {'train': [], 'valid': []}, 'linear': {'train': [], 'valid': []}, \n",
    "                'tanh': {'train': [], 'valid': []}}\n",
    "\n",
    "for func in funcs:\n",
    "    model = MyNeuralNetwork()\n",
    "    model.initialize(layers=6, lsize=[784, 256, 128, 64, 32, 10], acti='func', lr=0.08, weights='normal', bsize=1000, epochs=150)\n",
    "    model.fit(x_train, y_train, x_val, y_val)\n",
    "    model_weights[func]['weights'] = model.weights\n",
    "    model_weights[func]['biases'] = model.biases\n",
    "    model_loss[func]['train'] = model.train_loss\n",
    "    model_loss[func]['valid'] = model.val_loss"
   ]
  },
  {
   "cell_type": "code",
   "execution_count": null,
   "id": "7e2b80c0",
   "metadata": {},
   "outputs": [],
   "source": []
  }
 ],
 "metadata": {
  "kernelspec": {
   "display_name": "Python 3 (ipykernel)",
   "language": "python",
   "name": "python3"
  },
  "language_info": {
   "codemirror_mode": {
    "name": "ipython",
    "version": 3
   },
   "file_extension": ".py",
   "mimetype": "text/x-python",
   "name": "python",
   "nbconvert_exporter": "python",
   "pygments_lexer": "ipython3",
   "version": "3.9.6"
  }
 },
 "nbformat": 4,
 "nbformat_minor": 5
}
